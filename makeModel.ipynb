{
  "nbformat": 4,
  "nbformat_minor": 0,
  "metadata": {
    "colab": {
      "provenance": []
    },
    "kernelspec": {
      "name": "python3",
      "display_name": "Python 3"
    },
    "language_info": {
      "name": "python"
    }
  },
  "cells": [
    {
      "cell_type": "markdown",
      "source": [
        "##Prediction Disease"
      ],
      "metadata": {
        "id": "98IVmw5cz0AK"
      }
    },
    {
      "cell_type": "code",
      "execution_count": 1,
      "metadata": {
        "id": "e-SJxmiGUKsJ"
      },
      "outputs": [],
      "source": [
        "import pandas as pd\n",
        "import numpy as np\n",
        "import sklearn\n",
        "from sklearn.ensemble import RandomForestClassifier\n",
        "import matplotlib.pyplot as plt\n",
        "import plotly.express as px\n",
        "import tensorflow as tf\n",
        "from tensorflow.keras.layers import Dense\n",
        "from tensorflow.keras.models import Sequential\n",
        "from tensorflow.keras.losses import SparseCategoricalCrossentropy\n",
        "from sklearn.preprocessing import LabelEncoder\n",
        "from sklearn.metrics import confusion_matrix\n",
        "from googletrans import Translator"
      ]
    },
    {
      "cell_type": "code",
      "source": [
        "pip install googletrans==4.0.0-rc1\n"
      ],
      "metadata": {
        "colab": {
          "base_uri": "https://localhost:8080/",
          "height": 585
        },
        "id": "64TltIGzv2gP",
        "outputId": "1e074053-c795-429a-d49c-6a9df91e5242"
      },
      "execution_count": 5,
      "outputs": [
        {
          "output_type": "stream",
          "name": "stdout",
          "text": [
            "Collecting googletrans==4.0.0-rc1\n",
            "  Downloading googletrans-4.0.0rc1.tar.gz (20 kB)\n",
            "  Preparing metadata (setup.py) ... \u001b[?25l\u001b[?25hdone\n",
            "Requirement already satisfied: httpx==0.13.3 in /usr/local/lib/python3.10/dist-packages (from googletrans==4.0.0-rc1) (0.13.3)\n",
            "Requirement already satisfied: certifi in /usr/local/lib/python3.10/dist-packages (from httpx==0.13.3->googletrans==4.0.0-rc1) (2023.7.22)\n",
            "Requirement already satisfied: hstspreload in /usr/local/lib/python3.10/dist-packages (from httpx==0.13.3->googletrans==4.0.0-rc1) (2023.1.1)\n",
            "Requirement already satisfied: sniffio in /usr/local/lib/python3.10/dist-packages (from httpx==0.13.3->googletrans==4.0.0-rc1) (1.3.0)\n",
            "Requirement already satisfied: chardet==3.* in /usr/local/lib/python3.10/dist-packages (from httpx==0.13.3->googletrans==4.0.0-rc1) (3.0.4)\n",
            "Requirement already satisfied: idna==2.* in /usr/local/lib/python3.10/dist-packages (from httpx==0.13.3->googletrans==4.0.0-rc1) (2.10)\n",
            "Requirement already satisfied: rfc3986<2,>=1.3 in /usr/local/lib/python3.10/dist-packages (from httpx==0.13.3->googletrans==4.0.0-rc1) (1.5.0)\n",
            "Requirement already satisfied: httpcore==0.9.* in /usr/local/lib/python3.10/dist-packages (from httpx==0.13.3->googletrans==4.0.0-rc1) (0.9.1)\n",
            "Requirement already satisfied: h11<0.10,>=0.8 in /usr/local/lib/python3.10/dist-packages (from httpcore==0.9.*->httpx==0.13.3->googletrans==4.0.0-rc1) (0.9.0)\n",
            "Requirement already satisfied: h2==3.* in /usr/local/lib/python3.10/dist-packages (from httpcore==0.9.*->httpx==0.13.3->googletrans==4.0.0-rc1) (3.2.0)\n",
            "Requirement already satisfied: hyperframe<6,>=5.2.0 in /usr/local/lib/python3.10/dist-packages (from h2==3.*->httpcore==0.9.*->httpx==0.13.3->googletrans==4.0.0-rc1) (5.2.0)\n",
            "Requirement already satisfied: hpack<4,>=3.0 in /usr/local/lib/python3.10/dist-packages (from h2==3.*->httpcore==0.9.*->httpx==0.13.3->googletrans==4.0.0-rc1) (3.0.0)\n",
            "Building wheels for collected packages: googletrans\n",
            "  Building wheel for googletrans (setup.py) ... \u001b[?25l\u001b[?25hdone\n",
            "  Created wheel for googletrans: filename=googletrans-4.0.0rc1-py3-none-any.whl size=17396 sha256=0f03d55764e36266e8fa21637946c1f932de2c972609cca51f710d30ff605720\n",
            "  Stored in directory: /root/.cache/pip/wheels/c0/59/9f/7372f0cf70160fe61b528532e1a7c8498c4becd6bcffb022de\n",
            "Successfully built googletrans\n",
            "Installing collected packages: googletrans\n",
            "  Attempting uninstall: googletrans\n",
            "    Found existing installation: googletrans 3.0.0\n",
            "    Uninstalling googletrans-3.0.0:\n",
            "      Successfully uninstalled googletrans-3.0.0\n",
            "Successfully installed googletrans-4.0.0rc1\n"
          ]
        },
        {
          "output_type": "display_data",
          "data": {
            "application/vnd.colab-display-data+json": {
              "pip_warning": {
                "packages": [
                  "googletrans"
                ]
              }
            }
          },
          "metadata": {}
        }
      ]
    },
    {
      "cell_type": "markdown",
      "source": [
        "##Input Dataset Training dan Testing dari Disease Dataset"
      ],
      "metadata": {
        "id": "_tzOkXx0XlpC"
      }
    },
    {
      "cell_type": "code",
      "source": [
        "# Kamus untuk menerjemahkan nama penyakit\n",
        "kamus_penyakit = {\n",
        "    \"itching\": \"gatal\",\n",
        "    \"skin_rash\": \"ruam kulit\",\n",
        "    \"nodal_skin_eruptions\": \"nodal skin erupsi\",\n",
        "    \"continuous_sneezing\": \"terus menerus bersin\",\n",
        "    \"shivering\": \"gemetaran\",\n",
        "    \"chills\": \"panas dingin\",\n",
        "    \"joint_pain\": \"nyeri sendi\",\n",
        "    \"stomach_pain\": \"sakit perut\",\n",
        "    \"acidity\": \"keasaman\",\n",
        "    \"ulcers_on_tongue\": \"bisul di lidah\",\n",
        "    \"muscle_wasting\": \"pengecilan otot\",\n",
        "    \"vomiting\": \"muntah\",\n",
        "    \"burning_micturition\": \"pembakaran kemih\",\n",
        "    \"spotting_ urination\": \"bercak buang air kecil\",\n",
        "    \"fatigue\": \"kelelahan\",\n",
        "    \"weight_gain\": \"berat penambahan\",\n",
        "    \"anxiety\": \"kecemasan\",\n",
        "    \"cold_hands_and_feets\": \"tangan dan kaki dingin\",\n",
        "    \"mood_swings\": \"suasana hati ayunan\",\n",
        "    \"weight_loss\": \"berat penurunan\",\n",
        "    \"restlessness\": \"kegelisahan\",\n",
        "    \"lethargy\": \"kelesuan\",\n",
        "    \"patches_in_throat\": \"patch in throat\",\n",
        "    \"irregular_sugar_level\": \"kadar gula tidak teratur\",\n",
        "    \"cough\": \"batuk\",\n",
        "    \"high_fever\": \"demam tinggi\",\n",
        "    \"sunken_eyes\": \"cekung mata\",\n",
        "    \"breathlessness\": \"sesak napas\",\n",
        "    \"sweating\": \"berkeringat\",\n",
        "    \"dehydration\": \"dehidrasi\",\n",
        "    \"indigestion\": \"gangguan pencernaan\",\n",
        "    \"headache\": \"sakit kepala\",\n",
        "    \"yellowish_skin\": \"kulit kekuningan\",\n",
        "    \"dark_urine\": \"urin gelap\",\n",
        "    \"nausea\": \"mual\",\n",
        "    \"loss_of_appetite\": \"kehilangan selera makan\",\n",
        "    \"pain_behind_the_eyes\": \"rasa sakit di belakang mata\",\n",
        "    \"back_pain\": \"sakit punggung\",\n",
        "    \"constipation\": \"sembelit\",\n",
        "    \"abdominal_pain\": \"sakit perut\",\n",
        "    \"diarrhoea\": \"diare\",\n",
        "    \"mild_fever\": \"ringan demam\",\n",
        "    \"yellow_urine\": \"kuning urin\",\n",
        "    \"yellowing_of_eyes\": \"mata menguning\",\n",
        "    \"acute_liver_failure\": \"kegagalan hati akut\",\n",
        "    \"fluid_overload\": \"kelebihan cairan\",\n",
        "    \"swelling_of_stomach\": \"pembengkakan perut\",\n",
        "    \"swelled_lymph_nodes\": \"pembengkakan kelenjar getah bening\",\n",
        "    \"malaise\": \"rasa tidak enak\",\n",
        "    \"blurred_and_distorted_vision\": \"penglihatan kabur dan terdistorsi\",\n",
        "    \"phlegm\": \"dahak\",\n",
        "    \"throat_irritation\": \"tenggorokan iritasi\",\n",
        "    \"redness_of_eyes\": \"kemerahan mata\",\n",
        "    \"sinus_pressure\": \"tekanan sinus\",\n",
        "    \"runny_nose\": \"pilek\",\n",
        "    \"congestion\": \"penyumbatan\",\n",
        "    \"chest_pain\": \"nyeri dada\",\n",
        "    \"weakness_in_limbs\": \"kelemahan di anggota badan\",\n",
        "    \"fast_heart_rate\": \"detak jantung cepat\",\n",
        "    \"pain_during_bowel_movements\": \"nyeri selama gerakan usus\",\n",
        "    \"pain_in_anal_region\": \"nyeri di anal wilayah\",\n",
        "    \"bloody_stool\": \"bangku berdarah\",\n",
        "    \"irritation_in_anus\": \"iritasi di anus\",\n",
        "    \"neck_pain\": \"sakit leher\",\n",
        "    \"dizziness\": \"pusing\",\n",
        "    \"cramps\": \"kram\",\n",
        "    \"bruising\": \"memar\",\n",
        "    \"obesity\": \"kegemukan\",\n",
        "    \"swollen_legs\": \"kaki bengkak\",\n",
        "    \"swollen_blood_vessels\": \"pembuluh darah bengkak\",\n",
        "    \"puffy_face_and_eyes\": \"wajah dan mata bengkak\",\n",
        "    \"enlarged_thyroid\": \"pembesaran tiroid\",\n",
        "    \"brittle_nails\": \"kuku rapuh\",\n",
        "    \"swollen_extremities\": \"bengkak ekstremitas\",\n",
        "    \"excessive_hunger\": \"berlebihan kelaparan\",\n",
        "    \"extra_marital_contacts\": \"extra_marital_contacts\",\n",
        "    \"drying_and_tingling_lips\": \"mengeringkan dan kesemutan bibir\",\n",
        "    \"slurred_speech\": \"cadel ucapan\",\n",
        "    \"knee_pain\": \"sakit lutut\",\n",
        "    \"hip_joint_pain\": \"pinggul sendi nyeri\",\n",
        "    \"muscle_weakness\": \"kelemahan otot\",\n",
        "    \"stiff_neck\": \"leher kaku\",\n",
        "    \"swelling_joints\": \"pembengkakan sendi\",\n",
        "    \"movement_stiffness\": \"gerakan kekakuan\",\n",
        "    \"spinning_movements\": \"gerakan berputar\",\n",
        "    \"loss_of_balance\": \"kehilangan keseimbangan\",\n",
        "    \"unsteadiness\": \"kegoyangan\",\n",
        "    \"weakness_of_one_body_side\": \"kelemahan sisi satu tubuh\",\n",
        "    \"loss_of_smell\": \"kehilangan bau\",\n",
        "    \"bladder_discomfort\": \"kandung kemih ketidaknyamanan\",\n",
        "    \"foul_smell_of urine\": \"urin berbau busuk\",\n",
        "    \"continuous_feel_of_urine\": \"rasa air urin yang terus-menerus\",\n",
        "    \"passage_of gases\": \"bagian of gas\",\n",
        "    \"internal_itching\": \"internal gatal\",\n",
        "    \"toxic_look_(typhos)\": \"tampilan toksik (kesalahan ketik)\",\n",
        "    \"depression\": \"depresi\",\n",
        "    \"irritability\": \"sifat lekas marah\",\n",
        "    \"muscle_pain\": \"nyeri otot\",\n",
        "    \"altered_sensorium\": \"diubah sensorium\",\n",
        "    \"red_spots_over_body\": \"bintik merah di atas tubuh\",\n",
        "    \"belly_pain\": \"sakit perut\",\n",
        "    \"abnormal_menstruation\": \"abnormal menstruasi\",\n",
        "    \"dischromic _patches\": \"patches dischromic\",\n",
        "    \"watering_from_eyes\": \"penyiraman dari mata\",\n",
        "    \"increased_appetite\": \"peningkatan nafsu makan\",\n",
        "    \"polyuria\": \"poliuria\",\n",
        "    \"family_history\": \"sejarah keluarga\",\n",
        "    \"mucoid_sputum\": \"mukoid dahak\",\n",
        "    \"rusty_sputum\": \"berkarat dahak\",\n",
        "    \"lack_of_concentration\": \"kurang konsenterasi\",\n",
        "    \"visual_disturbances\": \"gangguan visual\",\n",
        "    \"receiving_blood_transfusion\": \"menerima transfusi darah\",\n",
        "    \"receiving_unsterile_injections\": \"menerima suntikan tidak steril\",\n",
        "    \"coma\": \"koma\",\n",
        "    \"stomach_bleeding\": \"perut pendarahan\",\n",
        "    \"distention_of_abdomen\": \"distensi perut\",\n",
        "    \"history_of_alcohol_consumption\": \"riwayat konsumsi alkohol\",\n",
        "    \"fluid_overload\": \"kelebihan cairan\",\n",
        "    \"blood_in_sputum\": \"darah dalam dahak\",\n",
        "    \"prominent_veins_on_calf\": \"vena menonjol di betis\",\n",
        "    \"palpitations\": \"jantung berdebar\",\n",
        "    \"painful_walking\": \"menyakitkan berjalan\",\n",
        "    \"pus_filled_pimples\": \"pus filled jerawat\",\n",
        "    \"blackheads\": \"komedo\",\n",
        "    \"scurring\": \"berlarian\",\n",
        "    \"skin_peeling\": \"pengelupasan kulit\",\n",
        "    \"silver_like_dusting\": \"debu seperti perak\",\n",
        "    \"small_dents_in_nails\": \"penyok kecil di kuku\",\n",
        "    \"inflammatory_nails\": \"kuku inflamasi\",\n",
        "    \"blister\": \"lepuh\",\n",
        "    \"red_sore_around_nose\": \"red sore around nose\",\n",
        "    \"yellow_crust_ooze\": \"kuning kerak ooze\",\n",
        "    \"prognosis\": \"prognosa\"\n",
        "}\n",
        "\n",
        "\n",
        "# Membaca dataset dari file CSV\n",
        "df = pd.read_csv(\"Testing.csv\")\n",
        "\n",
        "# Mengganti nama kolom berdasarkan kamus\n",
        "df.rename(columns=kamus_penyakit, inplace=True)\n",
        "\n",
        "# Menyimpan dataset yang telah diubah ke dalam file CSV\n",
        "df.to_csv(\"dataTestingPre.csv\", index=False)\n"
      ],
      "metadata": {
        "id": "osWoae9IZnV2"
      },
      "execution_count": 3,
      "outputs": []
    },
    {
      "cell_type": "code",
      "source": [
        "# Kamus untuk menerjemahkan nama penyakit\n",
        "kamus_penyakit = {\n",
        "    \"itching\": \"gatal\",\n",
        "    \"skin_rash\": \"ruam kulit\",\n",
        "    \"nodal_skin_eruptions\": \"nodal skin erupsi\",\n",
        "    \"continuous_sneezing\": \"terus menerus bersin\",\n",
        "    \"shivering\": \"gemetaran\",\n",
        "    \"chills\": \"panas dingin\",\n",
        "    \"joint_pain\": \"nyeri sendi\",\n",
        "    \"stomach_pain\": \"sakit perut\",\n",
        "    \"acidity\": \"keasaman\",\n",
        "    \"ulcers_on_tongue\": \"bisul di lidah\",\n",
        "    \"muscle_wasting\": \"pengecilan otot\",\n",
        "    \"vomiting\": \"muntah\",\n",
        "    \"burning_micturition\": \"pembakaran kemih\",\n",
        "    \"spotting_ urination\": \"bercak buang air kecil\",\n",
        "    \"fatigue\": \"kelelahan\",\n",
        "    \"weight_gain\": \"berat penambahan\",\n",
        "    \"anxiety\": \"kecemasan\",\n",
        "    \"cold_hands_and_feets\": \"tangan dan kaki dingin\",\n",
        "    \"mood_swings\": \"suasana hati ayunan\",\n",
        "    \"weight_loss\": \"berat penurunan\",\n",
        "    \"restlessness\": \"kegelisahan\",\n",
        "    \"lethargy\": \"kelesuan\",\n",
        "    \"patches_in_throat\": \"patch in throat\",\n",
        "    \"irregular_sugar_level\": \"kadar gula tidak teratur\",\n",
        "    \"cough\": \"batuk\",\n",
        "    \"high_fever\": \"demam tinggi\",\n",
        "    \"sunken_eyes\": \"cekung mata\",\n",
        "    \"breathlessness\": \"sesak napas\",\n",
        "    \"sweating\": \"berkeringat\",\n",
        "    \"dehydration\": \"dehidrasi\",\n",
        "    \"indigestion\": \"gangguan pencernaan\",\n",
        "    \"headache\": \"sakit kepala\",\n",
        "    \"yellowish_skin\": \"kulit kekuningan\",\n",
        "    \"dark_urine\": \"urin gelap\",\n",
        "    \"nausea\": \"mual\",\n",
        "    \"loss_of_appetite\": \"kehilangan selera makan\",\n",
        "    \"pain_behind_the_eyes\": \"rasa sakit di belakang mata\",\n",
        "    \"back_pain\": \"sakit punggung\",\n",
        "    \"constipation\": \"sembelit\",\n",
        "    \"abdominal_pain\": \"sakit perut\",\n",
        "    \"diarrhoea\": \"diare\",\n",
        "    \"mild_fever\": \"ringan demam\",\n",
        "    \"yellow_urine\": \"kuning urin\",\n",
        "    \"yellowing_of_eyes\": \"mata menguning\",\n",
        "    \"acute_liver_failure\": \"kegagalan hati akut\",\n",
        "    \"fluid_overload\": \"kelebihan cairan\",\n",
        "    \"swelling_of_stomach\": \"pembengkakan perut\",\n",
        "    \"swelled_lymph_nodes\": \"pembengkakan kelenjar getah bening\",\n",
        "    \"malaise\": \"rasa tidak enak\",\n",
        "    \"blurred_and_distorted_vision\": \"penglihatan kabur dan terdistorsi\",\n",
        "    \"phlegm\": \"dahak\",\n",
        "    \"throat_irritation\": \"tenggorokan iritasi\",\n",
        "    \"redness_of_eyes\": \"kemerahan mata\",\n",
        "    \"sinus_pressure\": \"tekanan sinus\",\n",
        "    \"runny_nose\": \"pilek\",\n",
        "    \"congestion\": \"penyumbatan\",\n",
        "    \"chest_pain\": \"nyeri dada\",\n",
        "    \"weakness_in_limbs\": \"kelemahan di anggota badan\",\n",
        "    \"fast_heart_rate\": \"detak jantung cepat\",\n",
        "    \"pain_during_bowel_movements\": \"nyeri selama gerakan usus\",\n",
        "    \"pain_in_anal_region\": \"nyeri di anal wilayah\",\n",
        "    \"bloody_stool\": \"bangku berdarah\",\n",
        "    \"irritation_in_anus\": \"iritasi di anus\",\n",
        "    \"neck_pain\": \"sakit leher\",\n",
        "    \"dizziness\": \"pusing\",\n",
        "    \"cramps\": \"kram\",\n",
        "    \"bruising\": \"memar\",\n",
        "    \"obesity\": \"kegemukan\",\n",
        "    \"swollen_legs\": \"kaki bengkak\",\n",
        "    \"swollen_blood_vessels\": \"pembuluh darah bengkak\",\n",
        "    \"puffy_face_and_eyes\": \"wajah dan mata bengkak\",\n",
        "    \"enlarged_thyroid\": \"pembesaran tiroid\",\n",
        "    \"brittle_nails\": \"kuku rapuh\",\n",
        "    \"swollen_extremities\": \"bengkak ekstremitas\",\n",
        "    \"excessive_hunger\": \"berlebihan kelaparan\",\n",
        "    \"extra_marital_contacts\": \"extra_marital_contacts\",\n",
        "    \"drying_and_tingling_lips\": \"mengeringkan dan kesemutan bibir\",\n",
        "    \"slurred_speech\": \"cadel ucapan\",\n",
        "    \"knee_pain\": \"sakit lutut\",\n",
        "    \"hip_joint_pain\": \"pinggul sendi nyeri\",\n",
        "    \"muscle_weakness\": \"kelemahan otot\",\n",
        "    \"stiff_neck\": \"leher kaku\",\n",
        "    \"swelling_joints\": \"pembengkakan sendi\",\n",
        "    \"movement_stiffness\": \"gerakan kekakuan\",\n",
        "    \"spinning_movements\": \"gerakan berputar\",\n",
        "    \"loss_of_balance\": \"kehilangan keseimbangan\",\n",
        "    \"unsteadiness\": \"kegoyangan\",\n",
        "    \"weakness_of_one_body_side\": \"kelemahan sisi satu tubuh\",\n",
        "    \"loss_of_smell\": \"kehilangan bau\",\n",
        "    \"bladder_discomfort\": \"kandung kemih ketidaknyamanan\",\n",
        "    \"foul_smell_of urine\": \"urin berbau busuk\",\n",
        "    \"continuous_feel_of_urine\": \"rasa air urin yang terus-menerus\",\n",
        "    \"passage_of gases\": \"bagian of gas\",\n",
        "    \"internal_itching\": \"internal gatal\",\n",
        "    \"toxic_look_(typhos)\": \"tampilan toksik (kesalahan ketik)\",\n",
        "    \"depression\": \"depresi\",\n",
        "    \"irritability\": \"sifat lekas marah\",\n",
        "    \"muscle_pain\": \"nyeri otot\",\n",
        "    \"altered_sensorium\": \"diubah sensorium\",\n",
        "    \"red_spots_over_body\": \"bintik merah di atas tubuh\",\n",
        "    \"belly_pain\": \"sakit perut\",\n",
        "    \"abnormal_menstruation\": \"abnormal menstruasi\",\n",
        "    \"dischromic _patches\": \"patches dischromic\",\n",
        "    \"watering_from_eyes\": \"penyiraman dari mata\",\n",
        "    \"increased_appetite\": \"peningkatan nafsu makan\",\n",
        "    \"polyuria\": \"poliuria\",\n",
        "    \"family_history\": \"sejarah keluarga\",\n",
        "    \"mucoid_sputum\": \"mukoid dahak\",\n",
        "    \"rusty_sputum\": \"berkarat dahak\",\n",
        "    \"lack_of_concentration\": \"kurang konsenterasi\",\n",
        "    \"visual_disturbances\": \"gangguan visual\",\n",
        "    \"receiving_blood_transfusion\": \"menerima transfusi darah\",\n",
        "    \"receiving_unsterile_injections\": \"menerima suntikan tidak steril\",\n",
        "    \"coma\": \"koma\",\n",
        "    \"stomach_bleeding\": \"perut pendarahan\",\n",
        "    \"distention_of_abdomen\": \"distensi perut\",\n",
        "    \"history_of_alcohol_consumption\": \"riwayat konsumsi alkohol\",\n",
        "    \"fluid_overload\": \"kelebihan cairan\",\n",
        "    \"blood_in_sputum\": \"darah dalam dahak\",\n",
        "    \"prominent_veins_on_calf\": \"vena menonjol di betis\",\n",
        "    \"palpitations\": \"jantung berdebar\",\n",
        "    \"painful_walking\": \"menyakitkan berjalan\",\n",
        "    \"pus_filled_pimples\": \"pus filled jerawat\",\n",
        "    \"blackheads\": \"komedo\",\n",
        "    \"scurring\": \"berlarian\",\n",
        "    \"skin_peeling\": \"pengelupasan kulit\",\n",
        "    \"silver_like_dusting\": \"debu seperti perak\",\n",
        "    \"small_dents_in_nails\": \"penyok kecil di kuku\",\n",
        "    \"inflammatory_nails\": \"kuku inflamasi\",\n",
        "    \"blister\": \"lepuh\",\n",
        "    \"red_sore_around_nose\": \"red sore around nose\",\n",
        "    \"yellow_crust_ooze\": \"kuning kerak ooze\",\n",
        "    \"prognosis\": \"prognosa\"\n",
        "}\n",
        "\n",
        "\n",
        "# Membaca dataset dari file CSV\n",
        "df = pd.read_csv(\"Training.csv\")\n",
        "\n",
        "# Mengganti nama kolom berdasarkan kamus\n",
        "df.rename(columns=kamus_penyakit, inplace=True)\n",
        "\n",
        "# Menyimpan dataset yang telah diubah ke dalam file CSV\n",
        "df.to_csv(\"dataTrainingPre.csv\", index=False)\n"
      ],
      "metadata": {
        "id": "jAwVWyRBaCxX"
      },
      "execution_count": 4,
      "outputs": []
    },
    {
      "cell_type": "code",
      "source": [
        "Train_data=pd.read_csv(\"dataTrainingPre.csv\")\n",
        "Test_data=pd.read_csv(\"dataTestingPre.csv\")"
      ],
      "metadata": {
        "id": "thXQ-VNpWiNz"
      },
      "execution_count": 5,
      "outputs": []
    },
    {
      "cell_type": "code",
      "source": [
        "train_df=pd.DataFrame(Train_data)\n",
        "train_df.head(15)\n",
        "# train_df=train_df.drop(['Unnamed: 133'],axis=1)\n",
        "train_df.head()"
      ],
      "metadata": {
        "colab": {
          "base_uri": "https://localhost:8080/",
          "height": 395
        },
        "id": "VdMOdHAWWp2R",
        "outputId": "860d454d-bb79-48d5-e789-140a5c9cb365"
      },
      "execution_count": 8,
      "outputs": [
        {
          "output_type": "execute_result",
          "data": {
            "text/plain": [
              "   gatal  ruam kulit  nodal skin erupsi  terus menerus bersin  gemetaran  \\\n",
              "0      1           1                  1                     0          0   \n",
              "1      0           1                  1                     0          0   \n",
              "2      1           0                  1                     0          0   \n",
              "3      1           1                  0                     0          0   \n",
              "4      1           1                  1                     0          0   \n",
              "\n",
              "   panas dingin  nyeri sendi  sakit perut  keasaman  bisul di lidah  ...  \\\n",
              "0             0            0            0         0               0  ...   \n",
              "1             0            0            0         0               0  ...   \n",
              "2             0            0            0         0               0  ...   \n",
              "3             0            0            0         0               0  ...   \n",
              "4             0            0            0         0               0  ...   \n",
              "\n",
              "   komedo  berlarian  pengelupasan kulit  debu seperti perak  \\\n",
              "0       0          0                   0                   0   \n",
              "1       0          0                   0                   0   \n",
              "2       0          0                   0                   0   \n",
              "3       0          0                   0                   0   \n",
              "4       0          0                   0                   0   \n",
              "\n",
              "   penyok kecil di kuku  kuku inflamasi  lepuh  red sore around nose  \\\n",
              "0                     0               0      0                     0   \n",
              "1                     0               0      0                     0   \n",
              "2                     0               0      0                     0   \n",
              "3                     0               0      0                     0   \n",
              "4                     0               0      0                     0   \n",
              "\n",
              "   kuning kerak ooze          prognosa  \n",
              "0                  0  Fungal infection  \n",
              "1                  0  Fungal infection  \n",
              "2                  0  Fungal infection  \n",
              "3                  0  Fungal infection  \n",
              "4                  0  Fungal infection  \n",
              "\n",
              "[5 rows x 133 columns]"
            ],
            "text/html": [
              "\n",
              "  <div id=\"df-a9b837c8-3a38-4470-b22a-e41caab97004\" class=\"colab-df-container\">\n",
              "    <div>\n",
              "<style scoped>\n",
              "    .dataframe tbody tr th:only-of-type {\n",
              "        vertical-align: middle;\n",
              "    }\n",
              "\n",
              "    .dataframe tbody tr th {\n",
              "        vertical-align: top;\n",
              "    }\n",
              "\n",
              "    .dataframe thead th {\n",
              "        text-align: right;\n",
              "    }\n",
              "</style>\n",
              "<table border=\"1\" class=\"dataframe\">\n",
              "  <thead>\n",
              "    <tr style=\"text-align: right;\">\n",
              "      <th></th>\n",
              "      <th>gatal</th>\n",
              "      <th>ruam kulit</th>\n",
              "      <th>nodal skin erupsi</th>\n",
              "      <th>terus menerus bersin</th>\n",
              "      <th>gemetaran</th>\n",
              "      <th>panas dingin</th>\n",
              "      <th>nyeri sendi</th>\n",
              "      <th>sakit perut</th>\n",
              "      <th>keasaman</th>\n",
              "      <th>bisul di lidah</th>\n",
              "      <th>...</th>\n",
              "      <th>komedo</th>\n",
              "      <th>berlarian</th>\n",
              "      <th>pengelupasan kulit</th>\n",
              "      <th>debu seperti perak</th>\n",
              "      <th>penyok kecil di kuku</th>\n",
              "      <th>kuku inflamasi</th>\n",
              "      <th>lepuh</th>\n",
              "      <th>red sore around nose</th>\n",
              "      <th>kuning kerak ooze</th>\n",
              "      <th>prognosa</th>\n",
              "    </tr>\n",
              "  </thead>\n",
              "  <tbody>\n",
              "    <tr>\n",
              "      <th>0</th>\n",
              "      <td>1</td>\n",
              "      <td>1</td>\n",
              "      <td>1</td>\n",
              "      <td>0</td>\n",
              "      <td>0</td>\n",
              "      <td>0</td>\n",
              "      <td>0</td>\n",
              "      <td>0</td>\n",
              "      <td>0</td>\n",
              "      <td>0</td>\n",
              "      <td>...</td>\n",
              "      <td>0</td>\n",
              "      <td>0</td>\n",
              "      <td>0</td>\n",
              "      <td>0</td>\n",
              "      <td>0</td>\n",
              "      <td>0</td>\n",
              "      <td>0</td>\n",
              "      <td>0</td>\n",
              "      <td>0</td>\n",
              "      <td>Fungal infection</td>\n",
              "    </tr>\n",
              "    <tr>\n",
              "      <th>1</th>\n",
              "      <td>0</td>\n",
              "      <td>1</td>\n",
              "      <td>1</td>\n",
              "      <td>0</td>\n",
              "      <td>0</td>\n",
              "      <td>0</td>\n",
              "      <td>0</td>\n",
              "      <td>0</td>\n",
              "      <td>0</td>\n",
              "      <td>0</td>\n",
              "      <td>...</td>\n",
              "      <td>0</td>\n",
              "      <td>0</td>\n",
              "      <td>0</td>\n",
              "      <td>0</td>\n",
              "      <td>0</td>\n",
              "      <td>0</td>\n",
              "      <td>0</td>\n",
              "      <td>0</td>\n",
              "      <td>0</td>\n",
              "      <td>Fungal infection</td>\n",
              "    </tr>\n",
              "    <tr>\n",
              "      <th>2</th>\n",
              "      <td>1</td>\n",
              "      <td>0</td>\n",
              "      <td>1</td>\n",
              "      <td>0</td>\n",
              "      <td>0</td>\n",
              "      <td>0</td>\n",
              "      <td>0</td>\n",
              "      <td>0</td>\n",
              "      <td>0</td>\n",
              "      <td>0</td>\n",
              "      <td>...</td>\n",
              "      <td>0</td>\n",
              "      <td>0</td>\n",
              "      <td>0</td>\n",
              "      <td>0</td>\n",
              "      <td>0</td>\n",
              "      <td>0</td>\n",
              "      <td>0</td>\n",
              "      <td>0</td>\n",
              "      <td>0</td>\n",
              "      <td>Fungal infection</td>\n",
              "    </tr>\n",
              "    <tr>\n",
              "      <th>3</th>\n",
              "      <td>1</td>\n",
              "      <td>1</td>\n",
              "      <td>0</td>\n",
              "      <td>0</td>\n",
              "      <td>0</td>\n",
              "      <td>0</td>\n",
              "      <td>0</td>\n",
              "      <td>0</td>\n",
              "      <td>0</td>\n",
              "      <td>0</td>\n",
              "      <td>...</td>\n",
              "      <td>0</td>\n",
              "      <td>0</td>\n",
              "      <td>0</td>\n",
              "      <td>0</td>\n",
              "      <td>0</td>\n",
              "      <td>0</td>\n",
              "      <td>0</td>\n",
              "      <td>0</td>\n",
              "      <td>0</td>\n",
              "      <td>Fungal infection</td>\n",
              "    </tr>\n",
              "    <tr>\n",
              "      <th>4</th>\n",
              "      <td>1</td>\n",
              "      <td>1</td>\n",
              "      <td>1</td>\n",
              "      <td>0</td>\n",
              "      <td>0</td>\n",
              "      <td>0</td>\n",
              "      <td>0</td>\n",
              "      <td>0</td>\n",
              "      <td>0</td>\n",
              "      <td>0</td>\n",
              "      <td>...</td>\n",
              "      <td>0</td>\n",
              "      <td>0</td>\n",
              "      <td>0</td>\n",
              "      <td>0</td>\n",
              "      <td>0</td>\n",
              "      <td>0</td>\n",
              "      <td>0</td>\n",
              "      <td>0</td>\n",
              "      <td>0</td>\n",
              "      <td>Fungal infection</td>\n",
              "    </tr>\n",
              "  </tbody>\n",
              "</table>\n",
              "<p>5 rows × 133 columns</p>\n",
              "</div>\n",
              "    <div class=\"colab-df-buttons\">\n",
              "\n",
              "  <div class=\"colab-df-container\">\n",
              "    <button class=\"colab-df-convert\" onclick=\"convertToInteractive('df-a9b837c8-3a38-4470-b22a-e41caab97004')\"\n",
              "            title=\"Convert this dataframe to an interactive table.\"\n",
              "            style=\"display:none;\">\n",
              "\n",
              "  <svg xmlns=\"http://www.w3.org/2000/svg\" height=\"24px\" viewBox=\"0 -960 960 960\">\n",
              "    <path d=\"M120-120v-720h720v720H120Zm60-500h600v-160H180v160Zm220 220h160v-160H400v160Zm0 220h160v-160H400v160ZM180-400h160v-160H180v160Zm440 0h160v-160H620v160ZM180-180h160v-160H180v160Zm440 0h160v-160H620v160Z\"/>\n",
              "  </svg>\n",
              "    </button>\n",
              "\n",
              "  <style>\n",
              "    .colab-df-container {\n",
              "      display:flex;\n",
              "      gap: 12px;\n",
              "    }\n",
              "\n",
              "    .colab-df-convert {\n",
              "      background-color: #E8F0FE;\n",
              "      border: none;\n",
              "      border-radius: 50%;\n",
              "      cursor: pointer;\n",
              "      display: none;\n",
              "      fill: #1967D2;\n",
              "      height: 32px;\n",
              "      padding: 0 0 0 0;\n",
              "      width: 32px;\n",
              "    }\n",
              "\n",
              "    .colab-df-convert:hover {\n",
              "      background-color: #E2EBFA;\n",
              "      box-shadow: 0px 1px 2px rgba(60, 64, 67, 0.3), 0px 1px 3px 1px rgba(60, 64, 67, 0.15);\n",
              "      fill: #174EA6;\n",
              "    }\n",
              "\n",
              "    .colab-df-buttons div {\n",
              "      margin-bottom: 4px;\n",
              "    }\n",
              "\n",
              "    [theme=dark] .colab-df-convert {\n",
              "      background-color: #3B4455;\n",
              "      fill: #D2E3FC;\n",
              "    }\n",
              "\n",
              "    [theme=dark] .colab-df-convert:hover {\n",
              "      background-color: #434B5C;\n",
              "      box-shadow: 0px 1px 3px 1px rgba(0, 0, 0, 0.15);\n",
              "      filter: drop-shadow(0px 1px 2px rgba(0, 0, 0, 0.3));\n",
              "      fill: #FFFFFF;\n",
              "    }\n",
              "  </style>\n",
              "\n",
              "    <script>\n",
              "      const buttonEl =\n",
              "        document.querySelector('#df-a9b837c8-3a38-4470-b22a-e41caab97004 button.colab-df-convert');\n",
              "      buttonEl.style.display =\n",
              "        google.colab.kernel.accessAllowed ? 'block' : 'none';\n",
              "\n",
              "      async function convertToInteractive(key) {\n",
              "        const element = document.querySelector('#df-a9b837c8-3a38-4470-b22a-e41caab97004');\n",
              "        const dataTable =\n",
              "          await google.colab.kernel.invokeFunction('convertToInteractive',\n",
              "                                                    [key], {});\n",
              "        if (!dataTable) return;\n",
              "\n",
              "        const docLinkHtml = 'Like what you see? Visit the ' +\n",
              "          '<a target=\"_blank\" href=https://colab.research.google.com/notebooks/data_table.ipynb>data table notebook</a>'\n",
              "          + ' to learn more about interactive tables.';\n",
              "        element.innerHTML = '';\n",
              "        dataTable['output_type'] = 'display_data';\n",
              "        await google.colab.output.renderOutput(dataTable, element);\n",
              "        const docLink = document.createElement('div');\n",
              "        docLink.innerHTML = docLinkHtml;\n",
              "        element.appendChild(docLink);\n",
              "      }\n",
              "    </script>\n",
              "  </div>\n",
              "\n",
              "\n",
              "<div id=\"df-3a3537d8-453e-4248-94d4-49744cb16827\">\n",
              "  <button class=\"colab-df-quickchart\" onclick=\"quickchart('df-3a3537d8-453e-4248-94d4-49744cb16827')\"\n",
              "            title=\"Suggest charts.\"\n",
              "            style=\"display:none;\">\n",
              "\n",
              "<svg xmlns=\"http://www.w3.org/2000/svg\" height=\"24px\"viewBox=\"0 0 24 24\"\n",
              "     width=\"24px\">\n",
              "    <g>\n",
              "        <path d=\"M19 3H5c-1.1 0-2 .9-2 2v14c0 1.1.9 2 2 2h14c1.1 0 2-.9 2-2V5c0-1.1-.9-2-2-2zM9 17H7v-7h2v7zm4 0h-2V7h2v10zm4 0h-2v-4h2v4z\"/>\n",
              "    </g>\n",
              "</svg>\n",
              "  </button>\n",
              "\n",
              "<style>\n",
              "  .colab-df-quickchart {\n",
              "      --bg-color: #E8F0FE;\n",
              "      --fill-color: #1967D2;\n",
              "      --hover-bg-color: #E2EBFA;\n",
              "      --hover-fill-color: #174EA6;\n",
              "      --disabled-fill-color: #AAA;\n",
              "      --disabled-bg-color: #DDD;\n",
              "  }\n",
              "\n",
              "  [theme=dark] .colab-df-quickchart {\n",
              "      --bg-color: #3B4455;\n",
              "      --fill-color: #D2E3FC;\n",
              "      --hover-bg-color: #434B5C;\n",
              "      --hover-fill-color: #FFFFFF;\n",
              "      --disabled-bg-color: #3B4455;\n",
              "      --disabled-fill-color: #666;\n",
              "  }\n",
              "\n",
              "  .colab-df-quickchart {\n",
              "    background-color: var(--bg-color);\n",
              "    border: none;\n",
              "    border-radius: 50%;\n",
              "    cursor: pointer;\n",
              "    display: none;\n",
              "    fill: var(--fill-color);\n",
              "    height: 32px;\n",
              "    padding: 0;\n",
              "    width: 32px;\n",
              "  }\n",
              "\n",
              "  .colab-df-quickchart:hover {\n",
              "    background-color: var(--hover-bg-color);\n",
              "    box-shadow: 0 1px 2px rgba(60, 64, 67, 0.3), 0 1px 3px 1px rgba(60, 64, 67, 0.15);\n",
              "    fill: var(--button-hover-fill-color);\n",
              "  }\n",
              "\n",
              "  .colab-df-quickchart-complete:disabled,\n",
              "  .colab-df-quickchart-complete:disabled:hover {\n",
              "    background-color: var(--disabled-bg-color);\n",
              "    fill: var(--disabled-fill-color);\n",
              "    box-shadow: none;\n",
              "  }\n",
              "\n",
              "  .colab-df-spinner {\n",
              "    border: 2px solid var(--fill-color);\n",
              "    border-color: transparent;\n",
              "    border-bottom-color: var(--fill-color);\n",
              "    animation:\n",
              "      spin 1s steps(1) infinite;\n",
              "  }\n",
              "\n",
              "  @keyframes spin {\n",
              "    0% {\n",
              "      border-color: transparent;\n",
              "      border-bottom-color: var(--fill-color);\n",
              "      border-left-color: var(--fill-color);\n",
              "    }\n",
              "    20% {\n",
              "      border-color: transparent;\n",
              "      border-left-color: var(--fill-color);\n",
              "      border-top-color: var(--fill-color);\n",
              "    }\n",
              "    30% {\n",
              "      border-color: transparent;\n",
              "      border-left-color: var(--fill-color);\n",
              "      border-top-color: var(--fill-color);\n",
              "      border-right-color: var(--fill-color);\n",
              "    }\n",
              "    40% {\n",
              "      border-color: transparent;\n",
              "      border-right-color: var(--fill-color);\n",
              "      border-top-color: var(--fill-color);\n",
              "    }\n",
              "    60% {\n",
              "      border-color: transparent;\n",
              "      border-right-color: var(--fill-color);\n",
              "    }\n",
              "    80% {\n",
              "      border-color: transparent;\n",
              "      border-right-color: var(--fill-color);\n",
              "      border-bottom-color: var(--fill-color);\n",
              "    }\n",
              "    90% {\n",
              "      border-color: transparent;\n",
              "      border-bottom-color: var(--fill-color);\n",
              "    }\n",
              "  }\n",
              "</style>\n",
              "\n",
              "  <script>\n",
              "    async function quickchart(key) {\n",
              "      const quickchartButtonEl =\n",
              "        document.querySelector('#' + key + ' button');\n",
              "      quickchartButtonEl.disabled = true;  // To prevent multiple clicks.\n",
              "      quickchartButtonEl.classList.add('colab-df-spinner');\n",
              "      try {\n",
              "        const charts = await google.colab.kernel.invokeFunction(\n",
              "            'suggestCharts', [key], {});\n",
              "      } catch (error) {\n",
              "        console.error('Error during call to suggestCharts:', error);\n",
              "      }\n",
              "      quickchartButtonEl.classList.remove('colab-df-spinner');\n",
              "      quickchartButtonEl.classList.add('colab-df-quickchart-complete');\n",
              "    }\n",
              "    (() => {\n",
              "      let quickchartButtonEl =\n",
              "        document.querySelector('#df-3a3537d8-453e-4248-94d4-49744cb16827 button');\n",
              "      quickchartButtonEl.style.display =\n",
              "        google.colab.kernel.accessAllowed ? 'block' : 'none';\n",
              "    })();\n",
              "  </script>\n",
              "</div>\n",
              "    </div>\n",
              "  </div>\n"
            ]
          },
          "metadata": {},
          "execution_count": 8
        }
      ]
    },
    {
      "cell_type": "markdown",
      "source": [
        "##menambah variabel target dan fitur dalam kumpulan data\n"
      ],
      "metadata": {
        "id": "zJpvxTw2X0oA"
      }
    },
    {
      "cell_type": "code",
      "source": [
        "list(train_df.columns)"
      ],
      "metadata": {
        "id": "k3wtkpwkX3Os",
        "colab": {
          "base_uri": "https://localhost:8080/"
        },
        "outputId": "7edc40c7-522f-439f-b299-57a766282291"
      },
      "execution_count": 9,
      "outputs": [
        {
          "output_type": "execute_result",
          "data": {
            "text/plain": [
              "['gatal',\n",
              " 'ruam kulit',\n",
              " 'nodal skin erupsi',\n",
              " 'terus menerus bersin',\n",
              " 'gemetaran',\n",
              " 'panas dingin',\n",
              " 'nyeri sendi',\n",
              " 'sakit perut',\n",
              " 'keasaman',\n",
              " 'bisul di lidah',\n",
              " 'pengecilan otot',\n",
              " 'muntah',\n",
              " 'pembakaran kemih',\n",
              " 'bercak buang air kecil',\n",
              " 'kelelahan',\n",
              " 'berat penambahan',\n",
              " 'kecemasan',\n",
              " 'tangan dan kaki dingin',\n",
              " 'suasana hati ayunan',\n",
              " 'berat penurunan',\n",
              " 'kegelisahan',\n",
              " 'kelesuan',\n",
              " 'patch in throat',\n",
              " 'kadar gula tidak teratur',\n",
              " 'batuk',\n",
              " 'demam tinggi',\n",
              " 'cekung mata',\n",
              " 'sesak napas',\n",
              " 'berkeringat',\n",
              " 'dehidrasi',\n",
              " 'gangguan pencernaan',\n",
              " 'sakit kepala',\n",
              " 'kulit kekuningan',\n",
              " 'urin gelap',\n",
              " 'mual',\n",
              " 'kehilangan selera makan',\n",
              " 'rasa sakit di belakang mata',\n",
              " 'sakit punggung',\n",
              " 'sembelit',\n",
              " 'sakit perut.1',\n",
              " 'diare',\n",
              " 'ringan demam',\n",
              " 'kuning urin',\n",
              " 'mata menguning',\n",
              " 'kegagalan hati akut',\n",
              " 'kelebihan cairan',\n",
              " 'pembengkakan perut',\n",
              " 'pembengkakan kelenjar getah bening',\n",
              " 'rasa tidak enak',\n",
              " 'penglihatan kabur dan terdistorsi',\n",
              " 'dahak',\n",
              " 'tenggorokan iritasi',\n",
              " 'kemerahan mata',\n",
              " 'tekanan sinus',\n",
              " 'pilek',\n",
              " 'penyumbatan',\n",
              " 'nyeri dada',\n",
              " 'kelemahan di anggota badan',\n",
              " 'detak jantung cepat',\n",
              " 'nyeri selama gerakan usus',\n",
              " 'nyeri di anal wilayah',\n",
              " 'bangku berdarah',\n",
              " 'iritasi di anus',\n",
              " 'sakit leher',\n",
              " 'pusing',\n",
              " 'kram',\n",
              " 'memar',\n",
              " 'kegemukan',\n",
              " 'kaki bengkak',\n",
              " 'pembuluh darah bengkak',\n",
              " 'wajah dan mata bengkak',\n",
              " 'pembesaran tiroid',\n",
              " 'kuku rapuh',\n",
              " 'swollen_extremeties',\n",
              " 'berlebihan kelaparan',\n",
              " 'extra_marital_contacts',\n",
              " 'mengeringkan dan kesemutan bibir',\n",
              " 'cadel ucapan',\n",
              " 'sakit lutut',\n",
              " 'pinggul sendi nyeri',\n",
              " 'kelemahan otot',\n",
              " 'leher kaku',\n",
              " 'pembengkakan sendi',\n",
              " 'gerakan kekakuan',\n",
              " 'gerakan berputar',\n",
              " 'kehilangan keseimbangan',\n",
              " 'kegoyangan',\n",
              " 'kelemahan sisi satu tubuh',\n",
              " 'kehilangan bau',\n",
              " 'kandung kemih ketidaknyamanan',\n",
              " 'urin berbau busuk',\n",
              " 'rasa air urin yang terus-menerus',\n",
              " 'passage_of_gases',\n",
              " 'internal gatal',\n",
              " 'tampilan toksik (kesalahan ketik)',\n",
              " 'depresi',\n",
              " 'sifat lekas marah',\n",
              " 'nyeri otot',\n",
              " 'diubah sensorium',\n",
              " 'bintik merah di atas tubuh',\n",
              " 'sakit perut.2',\n",
              " 'abnormal menstruasi',\n",
              " 'patches dischromic',\n",
              " 'penyiraman dari mata',\n",
              " 'peningkatan nafsu makan',\n",
              " 'poliuria',\n",
              " 'sejarah keluarga',\n",
              " 'mukoid dahak',\n",
              " 'berkarat dahak',\n",
              " 'kurang konsenterasi',\n",
              " 'gangguan visual',\n",
              " 'menerima transfusi darah',\n",
              " 'menerima suntikan tidak steril',\n",
              " 'koma',\n",
              " 'perut pendarahan',\n",
              " 'distensi perut',\n",
              " 'riwayat konsumsi alkohol',\n",
              " 'fluid_overload.1',\n",
              " 'darah dalam dahak',\n",
              " 'vena menonjol di betis',\n",
              " 'jantung berdebar',\n",
              " 'menyakitkan berjalan',\n",
              " 'pus filled jerawat',\n",
              " 'komedo',\n",
              " 'berlarian',\n",
              " 'pengelupasan kulit',\n",
              " 'debu seperti perak',\n",
              " 'penyok kecil di kuku',\n",
              " 'kuku inflamasi',\n",
              " 'lepuh',\n",
              " 'red sore around nose',\n",
              " 'kuning kerak ooze',\n",
              " 'prognosa']"
            ]
          },
          "metadata": {},
          "execution_count": 9
        }
      ]
    },
    {
      "cell_type": "code",
      "source": [
        "test_df=pd.DataFrame(Test_data)\n",
        "test_df.head()"
      ],
      "metadata": {
        "id": "1gKHcMFiX6fA",
        "colab": {
          "base_uri": "https://localhost:8080/",
          "height": 360
        },
        "outputId": "36569676-6a17-4c92-fe4b-cd79a5a80df6"
      },
      "execution_count": 10,
      "outputs": [
        {
          "output_type": "execute_result",
          "data": {
            "text/plain": [
              "   gatal  ruam kulit  nodal skin erupsi  terus menerus bersin  gemetaran  \\\n",
              "0      1           1                  1                     0          0   \n",
              "1      0           0                  0                     1          1   \n",
              "2      0           0                  0                     0          0   \n",
              "3      1           0                  0                     0          0   \n",
              "4      1           1                  0                     0          0   \n",
              "\n",
              "   panas dingin  nyeri sendi  sakit perut  keasaman  bisul di lidah  ...  \\\n",
              "0             0            0            0         0               0  ...   \n",
              "1             1            0            0         0               0  ...   \n",
              "2             0            0            1         1               1  ...   \n",
              "3             0            0            0         0               0  ...   \n",
              "4             0            0            1         0               0  ...   \n",
              "\n",
              "   komedo  berlarian  pengelupasan kulit  debu seperti perak  \\\n",
              "0       0          0                   0                   0   \n",
              "1       0          0                   0                   0   \n",
              "2       0          0                   0                   0   \n",
              "3       0          0                   0                   0   \n",
              "4       0          0                   0                   0   \n",
              "\n",
              "   penyok kecil di kuku  kuku inflamasi  lepuh  red sore around nose  \\\n",
              "0                     0               0      0                     0   \n",
              "1                     0               0      0                     0   \n",
              "2                     0               0      0                     0   \n",
              "3                     0               0      0                     0   \n",
              "4                     0               0      0                     0   \n",
              "\n",
              "   kuning kerak ooze             prognosa  \n",
              "0                  0     Fungal infection  \n",
              "1                  0              Allergy  \n",
              "2                  0                 GERD  \n",
              "3                  0  Chronic cholestasis  \n",
              "4                  0        Drug Reaction  \n",
              "\n",
              "[5 rows x 133 columns]"
            ],
            "text/html": [
              "\n",
              "  <div id=\"df-3ea62cc1-fd5b-4694-b003-ff715a27bd17\" class=\"colab-df-container\">\n",
              "    <div>\n",
              "<style scoped>\n",
              "    .dataframe tbody tr th:only-of-type {\n",
              "        vertical-align: middle;\n",
              "    }\n",
              "\n",
              "    .dataframe tbody tr th {\n",
              "        vertical-align: top;\n",
              "    }\n",
              "\n",
              "    .dataframe thead th {\n",
              "        text-align: right;\n",
              "    }\n",
              "</style>\n",
              "<table border=\"1\" class=\"dataframe\">\n",
              "  <thead>\n",
              "    <tr style=\"text-align: right;\">\n",
              "      <th></th>\n",
              "      <th>gatal</th>\n",
              "      <th>ruam kulit</th>\n",
              "      <th>nodal skin erupsi</th>\n",
              "      <th>terus menerus bersin</th>\n",
              "      <th>gemetaran</th>\n",
              "      <th>panas dingin</th>\n",
              "      <th>nyeri sendi</th>\n",
              "      <th>sakit perut</th>\n",
              "      <th>keasaman</th>\n",
              "      <th>bisul di lidah</th>\n",
              "      <th>...</th>\n",
              "      <th>komedo</th>\n",
              "      <th>berlarian</th>\n",
              "      <th>pengelupasan kulit</th>\n",
              "      <th>debu seperti perak</th>\n",
              "      <th>penyok kecil di kuku</th>\n",
              "      <th>kuku inflamasi</th>\n",
              "      <th>lepuh</th>\n",
              "      <th>red sore around nose</th>\n",
              "      <th>kuning kerak ooze</th>\n",
              "      <th>prognosa</th>\n",
              "    </tr>\n",
              "  </thead>\n",
              "  <tbody>\n",
              "    <tr>\n",
              "      <th>0</th>\n",
              "      <td>1</td>\n",
              "      <td>1</td>\n",
              "      <td>1</td>\n",
              "      <td>0</td>\n",
              "      <td>0</td>\n",
              "      <td>0</td>\n",
              "      <td>0</td>\n",
              "      <td>0</td>\n",
              "      <td>0</td>\n",
              "      <td>0</td>\n",
              "      <td>...</td>\n",
              "      <td>0</td>\n",
              "      <td>0</td>\n",
              "      <td>0</td>\n",
              "      <td>0</td>\n",
              "      <td>0</td>\n",
              "      <td>0</td>\n",
              "      <td>0</td>\n",
              "      <td>0</td>\n",
              "      <td>0</td>\n",
              "      <td>Fungal infection</td>\n",
              "    </tr>\n",
              "    <tr>\n",
              "      <th>1</th>\n",
              "      <td>0</td>\n",
              "      <td>0</td>\n",
              "      <td>0</td>\n",
              "      <td>1</td>\n",
              "      <td>1</td>\n",
              "      <td>1</td>\n",
              "      <td>0</td>\n",
              "      <td>0</td>\n",
              "      <td>0</td>\n",
              "      <td>0</td>\n",
              "      <td>...</td>\n",
              "      <td>0</td>\n",
              "      <td>0</td>\n",
              "      <td>0</td>\n",
              "      <td>0</td>\n",
              "      <td>0</td>\n",
              "      <td>0</td>\n",
              "      <td>0</td>\n",
              "      <td>0</td>\n",
              "      <td>0</td>\n",
              "      <td>Allergy</td>\n",
              "    </tr>\n",
              "    <tr>\n",
              "      <th>2</th>\n",
              "      <td>0</td>\n",
              "      <td>0</td>\n",
              "      <td>0</td>\n",
              "      <td>0</td>\n",
              "      <td>0</td>\n",
              "      <td>0</td>\n",
              "      <td>0</td>\n",
              "      <td>1</td>\n",
              "      <td>1</td>\n",
              "      <td>1</td>\n",
              "      <td>...</td>\n",
              "      <td>0</td>\n",
              "      <td>0</td>\n",
              "      <td>0</td>\n",
              "      <td>0</td>\n",
              "      <td>0</td>\n",
              "      <td>0</td>\n",
              "      <td>0</td>\n",
              "      <td>0</td>\n",
              "      <td>0</td>\n",
              "      <td>GERD</td>\n",
              "    </tr>\n",
              "    <tr>\n",
              "      <th>3</th>\n",
              "      <td>1</td>\n",
              "      <td>0</td>\n",
              "      <td>0</td>\n",
              "      <td>0</td>\n",
              "      <td>0</td>\n",
              "      <td>0</td>\n",
              "      <td>0</td>\n",
              "      <td>0</td>\n",
              "      <td>0</td>\n",
              "      <td>0</td>\n",
              "      <td>...</td>\n",
              "      <td>0</td>\n",
              "      <td>0</td>\n",
              "      <td>0</td>\n",
              "      <td>0</td>\n",
              "      <td>0</td>\n",
              "      <td>0</td>\n",
              "      <td>0</td>\n",
              "      <td>0</td>\n",
              "      <td>0</td>\n",
              "      <td>Chronic cholestasis</td>\n",
              "    </tr>\n",
              "    <tr>\n",
              "      <th>4</th>\n",
              "      <td>1</td>\n",
              "      <td>1</td>\n",
              "      <td>0</td>\n",
              "      <td>0</td>\n",
              "      <td>0</td>\n",
              "      <td>0</td>\n",
              "      <td>0</td>\n",
              "      <td>1</td>\n",
              "      <td>0</td>\n",
              "      <td>0</td>\n",
              "      <td>...</td>\n",
              "      <td>0</td>\n",
              "      <td>0</td>\n",
              "      <td>0</td>\n",
              "      <td>0</td>\n",
              "      <td>0</td>\n",
              "      <td>0</td>\n",
              "      <td>0</td>\n",
              "      <td>0</td>\n",
              "      <td>0</td>\n",
              "      <td>Drug Reaction</td>\n",
              "    </tr>\n",
              "  </tbody>\n",
              "</table>\n",
              "<p>5 rows × 133 columns</p>\n",
              "</div>\n",
              "    <div class=\"colab-df-buttons\">\n",
              "\n",
              "  <div class=\"colab-df-container\">\n",
              "    <button class=\"colab-df-convert\" onclick=\"convertToInteractive('df-3ea62cc1-fd5b-4694-b003-ff715a27bd17')\"\n",
              "            title=\"Convert this dataframe to an interactive table.\"\n",
              "            style=\"display:none;\">\n",
              "\n",
              "  <svg xmlns=\"http://www.w3.org/2000/svg\" height=\"24px\" viewBox=\"0 -960 960 960\">\n",
              "    <path d=\"M120-120v-720h720v720H120Zm60-500h600v-160H180v160Zm220 220h160v-160H400v160Zm0 220h160v-160H400v160ZM180-400h160v-160H180v160Zm440 0h160v-160H620v160ZM180-180h160v-160H180v160Zm440 0h160v-160H620v160Z\"/>\n",
              "  </svg>\n",
              "    </button>\n",
              "\n",
              "  <style>\n",
              "    .colab-df-container {\n",
              "      display:flex;\n",
              "      gap: 12px;\n",
              "    }\n",
              "\n",
              "    .colab-df-convert {\n",
              "      background-color: #E8F0FE;\n",
              "      border: none;\n",
              "      border-radius: 50%;\n",
              "      cursor: pointer;\n",
              "      display: none;\n",
              "      fill: #1967D2;\n",
              "      height: 32px;\n",
              "      padding: 0 0 0 0;\n",
              "      width: 32px;\n",
              "    }\n",
              "\n",
              "    .colab-df-convert:hover {\n",
              "      background-color: #E2EBFA;\n",
              "      box-shadow: 0px 1px 2px rgba(60, 64, 67, 0.3), 0px 1px 3px 1px rgba(60, 64, 67, 0.15);\n",
              "      fill: #174EA6;\n",
              "    }\n",
              "\n",
              "    .colab-df-buttons div {\n",
              "      margin-bottom: 4px;\n",
              "    }\n",
              "\n",
              "    [theme=dark] .colab-df-convert {\n",
              "      background-color: #3B4455;\n",
              "      fill: #D2E3FC;\n",
              "    }\n",
              "\n",
              "    [theme=dark] .colab-df-convert:hover {\n",
              "      background-color: #434B5C;\n",
              "      box-shadow: 0px 1px 3px 1px rgba(0, 0, 0, 0.15);\n",
              "      filter: drop-shadow(0px 1px 2px rgba(0, 0, 0, 0.3));\n",
              "      fill: #FFFFFF;\n",
              "    }\n",
              "  </style>\n",
              "\n",
              "    <script>\n",
              "      const buttonEl =\n",
              "        document.querySelector('#df-3ea62cc1-fd5b-4694-b003-ff715a27bd17 button.colab-df-convert');\n",
              "      buttonEl.style.display =\n",
              "        google.colab.kernel.accessAllowed ? 'block' : 'none';\n",
              "\n",
              "      async function convertToInteractive(key) {\n",
              "        const element = document.querySelector('#df-3ea62cc1-fd5b-4694-b003-ff715a27bd17');\n",
              "        const dataTable =\n",
              "          await google.colab.kernel.invokeFunction('convertToInteractive',\n",
              "                                                    [key], {});\n",
              "        if (!dataTable) return;\n",
              "\n",
              "        const docLinkHtml = 'Like what you see? Visit the ' +\n",
              "          '<a target=\"_blank\" href=https://colab.research.google.com/notebooks/data_table.ipynb>data table notebook</a>'\n",
              "          + ' to learn more about interactive tables.';\n",
              "        element.innerHTML = '';\n",
              "        dataTable['output_type'] = 'display_data';\n",
              "        await google.colab.output.renderOutput(dataTable, element);\n",
              "        const docLink = document.createElement('div');\n",
              "        docLink.innerHTML = docLinkHtml;\n",
              "        element.appendChild(docLink);\n",
              "      }\n",
              "    </script>\n",
              "  </div>\n",
              "\n",
              "\n",
              "<div id=\"df-1cdf3f66-ec33-42c8-9ec5-bb731c2b4ee4\">\n",
              "  <button class=\"colab-df-quickchart\" onclick=\"quickchart('df-1cdf3f66-ec33-42c8-9ec5-bb731c2b4ee4')\"\n",
              "            title=\"Suggest charts.\"\n",
              "            style=\"display:none;\">\n",
              "\n",
              "<svg xmlns=\"http://www.w3.org/2000/svg\" height=\"24px\"viewBox=\"0 0 24 24\"\n",
              "     width=\"24px\">\n",
              "    <g>\n",
              "        <path d=\"M19 3H5c-1.1 0-2 .9-2 2v14c0 1.1.9 2 2 2h14c1.1 0 2-.9 2-2V5c0-1.1-.9-2-2-2zM9 17H7v-7h2v7zm4 0h-2V7h2v10zm4 0h-2v-4h2v4z\"/>\n",
              "    </g>\n",
              "</svg>\n",
              "  </button>\n",
              "\n",
              "<style>\n",
              "  .colab-df-quickchart {\n",
              "      --bg-color: #E8F0FE;\n",
              "      --fill-color: #1967D2;\n",
              "      --hover-bg-color: #E2EBFA;\n",
              "      --hover-fill-color: #174EA6;\n",
              "      --disabled-fill-color: #AAA;\n",
              "      --disabled-bg-color: #DDD;\n",
              "  }\n",
              "\n",
              "  [theme=dark] .colab-df-quickchart {\n",
              "      --bg-color: #3B4455;\n",
              "      --fill-color: #D2E3FC;\n",
              "      --hover-bg-color: #434B5C;\n",
              "      --hover-fill-color: #FFFFFF;\n",
              "      --disabled-bg-color: #3B4455;\n",
              "      --disabled-fill-color: #666;\n",
              "  }\n",
              "\n",
              "  .colab-df-quickchart {\n",
              "    background-color: var(--bg-color);\n",
              "    border: none;\n",
              "    border-radius: 50%;\n",
              "    cursor: pointer;\n",
              "    display: none;\n",
              "    fill: var(--fill-color);\n",
              "    height: 32px;\n",
              "    padding: 0;\n",
              "    width: 32px;\n",
              "  }\n",
              "\n",
              "  .colab-df-quickchart:hover {\n",
              "    background-color: var(--hover-bg-color);\n",
              "    box-shadow: 0 1px 2px rgba(60, 64, 67, 0.3), 0 1px 3px 1px rgba(60, 64, 67, 0.15);\n",
              "    fill: var(--button-hover-fill-color);\n",
              "  }\n",
              "\n",
              "  .colab-df-quickchart-complete:disabled,\n",
              "  .colab-df-quickchart-complete:disabled:hover {\n",
              "    background-color: var(--disabled-bg-color);\n",
              "    fill: var(--disabled-fill-color);\n",
              "    box-shadow: none;\n",
              "  }\n",
              "\n",
              "  .colab-df-spinner {\n",
              "    border: 2px solid var(--fill-color);\n",
              "    border-color: transparent;\n",
              "    border-bottom-color: var(--fill-color);\n",
              "    animation:\n",
              "      spin 1s steps(1) infinite;\n",
              "  }\n",
              "\n",
              "  @keyframes spin {\n",
              "    0% {\n",
              "      border-color: transparent;\n",
              "      border-bottom-color: var(--fill-color);\n",
              "      border-left-color: var(--fill-color);\n",
              "    }\n",
              "    20% {\n",
              "      border-color: transparent;\n",
              "      border-left-color: var(--fill-color);\n",
              "      border-top-color: var(--fill-color);\n",
              "    }\n",
              "    30% {\n",
              "      border-color: transparent;\n",
              "      border-left-color: var(--fill-color);\n",
              "      border-top-color: var(--fill-color);\n",
              "      border-right-color: var(--fill-color);\n",
              "    }\n",
              "    40% {\n",
              "      border-color: transparent;\n",
              "      border-right-color: var(--fill-color);\n",
              "      border-top-color: var(--fill-color);\n",
              "    }\n",
              "    60% {\n",
              "      border-color: transparent;\n",
              "      border-right-color: var(--fill-color);\n",
              "    }\n",
              "    80% {\n",
              "      border-color: transparent;\n",
              "      border-right-color: var(--fill-color);\n",
              "      border-bottom-color: var(--fill-color);\n",
              "    }\n",
              "    90% {\n",
              "      border-color: transparent;\n",
              "      border-bottom-color: var(--fill-color);\n",
              "    }\n",
              "  }\n",
              "</style>\n",
              "\n",
              "  <script>\n",
              "    async function quickchart(key) {\n",
              "      const quickchartButtonEl =\n",
              "        document.querySelector('#' + key + ' button');\n",
              "      quickchartButtonEl.disabled = true;  // To prevent multiple clicks.\n",
              "      quickchartButtonEl.classList.add('colab-df-spinner');\n",
              "      try {\n",
              "        const charts = await google.colab.kernel.invokeFunction(\n",
              "            'suggestCharts', [key], {});\n",
              "      } catch (error) {\n",
              "        console.error('Error during call to suggestCharts:', error);\n",
              "      }\n",
              "      quickchartButtonEl.classList.remove('colab-df-spinner');\n",
              "      quickchartButtonEl.classList.add('colab-df-quickchart-complete');\n",
              "    }\n",
              "    (() => {\n",
              "      let quickchartButtonEl =\n",
              "        document.querySelector('#df-1cdf3f66-ec33-42c8-9ec5-bb731c2b4ee4 button');\n",
              "      quickchartButtonEl.style.display =\n",
              "        google.colab.kernel.accessAllowed ? 'block' : 'none';\n",
              "    })();\n",
              "  </script>\n",
              "</div>\n",
              "    </div>\n",
              "  </div>\n"
            ]
          },
          "metadata": {},
          "execution_count": 10
        }
      ]
    },
    {
      "cell_type": "markdown",
      "source": [
        "## Menghapus Parameter yang tidak perlu"
      ],
      "metadata": {
        "id": "y2Js2peAX-9i"
      }
    },
    {
      "cell_type": "code",
      "source": [
        "y_train=train_df['prognosa']\n",
        "x_train=train_df.drop(['rasa tidak enak',\n",
        " 'penglihatan kabur dan terdistorsi',\n",
        " 'dahak',\n",
        " 'tenggorokan iritasi',\n",
        " 'kemerahan mata',\n",
        " 'tekanan sinus',\n",
        " 'pilek',\n",
        " 'penyumbatan',\n",
        " 'nyeri dada',\n",
        " 'kelemahan di anggota badan',\n",
        " 'detak jantung cepat',\n",
        " 'nyeri selama gerakan usus',\n",
        " 'nyeri di anal wilayah',\n",
        " 'bangku berdarah',\n",
        " 'iritasi di anus',\n",
        " 'sakit leher',\n",
        " 'pusing',\n",
        " 'kram',\n",
        " 'memar',\n",
        " 'kegemukan',\n",
        " 'kaki bengkak',\n",
        " 'pembuluh darah bengkak',\n",
        " 'wajah dan mata bengkak',\n",
        " 'pembesaran tiroid',\n",
        " 'kuku rapuh',\n",
        " 'swollen_extremeties',\n",
        " 'berlebihan kelaparan',\n",
        " 'extra_marital_contacts',\n",
        " 'mengeringkan dan kesemutan bibir',\n",
        " 'cadel ucapan',\n",
        " 'sakit lutut',\n",
        " 'pinggul sendi nyeri',\n",
        " 'kelemahan otot',\n",
        " 'leher kaku',\n",
        " 'pembengkakan sendi',\n",
        " 'gerakan kekakuan',\n",
        " 'gerakan berputar',\n",
        " 'kehilangan keseimbangan',\n",
        " 'kegoyangan',\n",
        " 'kelemahan sisi satu tubuh',\n",
        " 'kehilangan bau',\n",
        " 'kandung kemih ketidaknyamanan',\n",
        " 'urin berbau busuk',\n",
        " 'rasa air urin yang terus-menerus',\n",
        " 'passage_of_gases',\n",
        " 'internal gatal',\n",
        " 'tampilan toksik (kesalahan ketik)',\n",
        " 'depresi',\n",
        " 'sifat lekas marah',\n",
        " 'nyeri otot',\n",
        " 'diubah sensorium',\n",
        " 'bintik merah di atas tubuh',\n",
        " 'sakit perut.2',\n",
        " 'abnormal menstruasi',\n",
        " 'patches dischromic',\n",
        " 'penyiraman dari mata',\n",
        " 'peningkatan nafsu makan',\n",
        " 'poliuria',\n",
        " 'sejarah keluarga',\n",
        " 'mukoid dahak',\n",
        " 'berkarat dahak',\n",
        " 'kurang konsenterasi',\n",
        " 'gangguan visual',\n",
        " 'menerima transfusi darah',\n",
        " 'menerima suntikan tidak steril',\n",
        " 'koma',\n",
        " 'perut pendarahan',\n",
        " 'distensi perut',\n",
        " 'riwayat konsumsi alkohol',\n",
        " 'fluid_overload.1',\n",
        " 'darah dalam dahak',\n",
        " 'vena menonjol di betis',\n",
        " 'jantung berdebar',\n",
        " 'menyakitkan berjalan',\n",
        " 'pus filled jerawat',\n",
        " 'komedo',\n",
        " 'berlarian',\n",
        " 'pengelupasan kulit',\n",
        " 'debu seperti perak',\n",
        " 'penyok kecil di kuku',\n",
        " 'kuku inflamasi',\n",
        " 'lepuh',\n",
        " 'red sore around nose',\n",
        " 'kuning kerak ooze',\n",
        " 'prognosa'],axis=1)\n",
        "y_train.unique()"
      ],
      "metadata": {
        "id": "dFXHq8oJX_ww",
        "colab": {
          "base_uri": "https://localhost:8080/"
        },
        "outputId": "98f1d5e8-50fe-4684-b0b6-9288280c445c"
      },
      "execution_count": 12,
      "outputs": [
        {
          "output_type": "execute_result",
          "data": {
            "text/plain": [
              "array(['Fungal infection', 'Allergy', 'GERD', 'Chronic cholestasis',\n",
              "       'Drug Reaction', 'Peptic ulcer diseae', 'AIDS', 'Diabetes ',\n",
              "       'Gastroenteritis', 'Bronchial Asthma', 'Hypertension ', 'Migraine',\n",
              "       'Cervical spondylosis', 'Paralysis (brain hemorrhage)', 'Jaundice',\n",
              "       'Malaria', 'Chicken pox', 'Dengue', 'Typhoid', 'hepatitis A',\n",
              "       'Hepatitis B', 'Hepatitis C', 'Hepatitis D', 'Hepatitis E',\n",
              "       'Alcoholic hepatitis', 'Tuberculosis', 'Common Cold', 'Pneumonia',\n",
              "       'Dimorphic hemmorhoids(piles)', 'Heart attack', 'Varicose veins',\n",
              "       'Hypothyroidism', 'Hyperthyroidism', 'Hypoglycemia',\n",
              "       'Osteoarthristis', 'Arthritis',\n",
              "       '(vertigo) Paroymsal  Positional Vertigo', 'Acne',\n",
              "       'Urinary tract infection', 'Psoriasis', 'Impetigo'], dtype=object)"
            ]
          },
          "metadata": {},
          "execution_count": 12
        }
      ]
    },
    {
      "cell_type": "code",
      "source": [
        "print(x_train.shape)"
      ],
      "metadata": {
        "id": "5a_q53X6YPpK",
        "colab": {
          "base_uri": "https://localhost:8080/"
        },
        "outputId": "902327f3-4e94-4556-f76b-0b8ad530229f"
      },
      "execution_count": 13,
      "outputs": [
        {
          "output_type": "stream",
          "name": "stdout",
          "text": [
            "(4920, 48)\n"
          ]
        }
      ]
    },
    {
      "cell_type": "code",
      "source": [
        "test_df.isna().sum()"
      ],
      "metadata": {
        "id": "yYCHXpysYSCq",
        "colab": {
          "base_uri": "https://localhost:8080/"
        },
        "outputId": "246e47f9-8e27-4657-fb63-ce7a7859d75f"
      },
      "execution_count": 14,
      "outputs": [
        {
          "output_type": "execute_result",
          "data": {
            "text/plain": [
              "gatal                   0\n",
              "ruam kulit              0\n",
              "nodal skin erupsi       0\n",
              "terus menerus bersin    0\n",
              "gemetaran               0\n",
              "                       ..\n",
              "kuku inflamasi          0\n",
              "lepuh                   0\n",
              "red sore around nose    0\n",
              "kuning kerak ooze       0\n",
              "prognosa                0\n",
              "Length: 133, dtype: int64"
            ]
          },
          "metadata": {},
          "execution_count": 14
        }
      ]
    },
    {
      "cell_type": "code",
      "source": [
        "x_test=test_df.drop(['rasa tidak enak',\n",
        " 'penglihatan kabur dan terdistorsi',\n",
        " 'dahak',\n",
        " 'tenggorokan iritasi',\n",
        " 'kemerahan mata',\n",
        " 'tekanan sinus',\n",
        " 'pilek',\n",
        " 'penyumbatan',\n",
        " 'nyeri dada',\n",
        " 'kelemahan di anggota badan',\n",
        " 'detak jantung cepat',\n",
        " 'nyeri selama gerakan usus',\n",
        " 'nyeri di anal wilayah',\n",
        " 'bangku berdarah',\n",
        " 'iritasi di anus',\n",
        " 'sakit leher',\n",
        " 'pusing',\n",
        " 'kram',\n",
        " 'memar',\n",
        " 'kegemukan',\n",
        " 'kaki bengkak',\n",
        " 'pembuluh darah bengkak',\n",
        " 'wajah dan mata bengkak',\n",
        " 'pembesaran tiroid',\n",
        " 'kuku rapuh',\n",
        " 'swollen_extremeties',\n",
        " 'berlebihan kelaparan',\n",
        " 'extra_marital_contacts',\n",
        " 'mengeringkan dan kesemutan bibir',\n",
        " 'cadel ucapan',\n",
        " 'sakit lutut',\n",
        " 'pinggul sendi nyeri',\n",
        " 'kelemahan otot',\n",
        " 'leher kaku',\n",
        " 'pembengkakan sendi',\n",
        " 'gerakan kekakuan',\n",
        " 'gerakan berputar',\n",
        " 'kehilangan keseimbangan',\n",
        " 'kegoyangan',\n",
        " 'kelemahan sisi satu tubuh',\n",
        " 'kehilangan bau',\n",
        " 'kandung kemih ketidaknyamanan',\n",
        " 'urin berbau busuk',\n",
        " 'rasa air urin yang terus-menerus',\n",
        " 'passage_of_gases',\n",
        " 'internal gatal',\n",
        " 'tampilan toksik (kesalahan ketik)',\n",
        " 'depresi',\n",
        " 'sifat lekas marah',\n",
        " 'nyeri otot',\n",
        " 'diubah sensorium',\n",
        " 'bintik merah di atas tubuh',\n",
        " 'sakit perut.2',\n",
        " 'abnormal menstruasi',\n",
        " 'patches dischromic',\n",
        " 'penyiraman dari mata',\n",
        " 'peningkatan nafsu makan',\n",
        " 'poliuria',\n",
        " 'sejarah keluarga',\n",
        " 'mukoid dahak',\n",
        " 'berkarat dahak',\n",
        " 'kurang konsenterasi',\n",
        " 'gangguan visual',\n",
        " 'menerima transfusi darah',\n",
        " 'menerima suntikan tidak steril',\n",
        " 'koma',\n",
        " 'perut pendarahan',\n",
        " 'distensi perut',\n",
        " 'riwayat konsumsi alkohol',\n",
        " 'fluid_overload.1',\n",
        " 'darah dalam dahak',\n",
        " 'vena menonjol di betis',\n",
        " 'jantung berdebar',\n",
        " 'menyakitkan berjalan',\n",
        " 'pus filled jerawat',\n",
        " 'komedo',\n",
        " 'berlarian',\n",
        " 'pengelupasan kulit',\n",
        " 'debu seperti perak',\n",
        " 'penyok kecil di kuku',\n",
        " 'kuku inflamasi',\n",
        " 'lepuh',\n",
        " 'red sore around nose',\n",
        " 'kuning kerak ooze',\n",
        " 'prognosa'],axis=1)\n",
        "y_test=test_df['prognosa']\n",
        "print(x_train.columns)"
      ],
      "metadata": {
        "id": "roWeEpfWYTRT",
        "colab": {
          "base_uri": "https://localhost:8080/"
        },
        "outputId": "354e93d9-7853-48c2-bd58-c5ff83a4be25"
      },
      "execution_count": 15,
      "outputs": [
        {
          "output_type": "stream",
          "name": "stdout",
          "text": [
            "Index(['gatal', 'ruam kulit', 'nodal skin erupsi', 'terus menerus bersin',\n",
            "       'gemetaran', 'panas dingin', 'nyeri sendi', 'sakit perut', 'keasaman',\n",
            "       'bisul di lidah', 'pengecilan otot', 'muntah', 'pembakaran kemih',\n",
            "       'bercak buang air kecil', 'kelelahan', 'berat penambahan', 'kecemasan',\n",
            "       'tangan dan kaki dingin', 'suasana hati ayunan', 'berat penurunan',\n",
            "       'kegelisahan', 'kelesuan', 'patch in throat',\n",
            "       'kadar gula tidak teratur', 'batuk', 'demam tinggi', 'cekung mata',\n",
            "       'sesak napas', 'berkeringat', 'dehidrasi', 'gangguan pencernaan',\n",
            "       'sakit kepala', 'kulit kekuningan', 'urin gelap', 'mual',\n",
            "       'kehilangan selera makan', 'rasa sakit di belakang mata',\n",
            "       'sakit punggung', 'sembelit', 'sakit perut.1', 'diare', 'ringan demam',\n",
            "       'kuning urin', 'mata menguning', 'kegagalan hati akut',\n",
            "       'kelebihan cairan', 'pembengkakan perut',\n",
            "       'pembengkakan kelenjar getah bening'],\n",
            "      dtype='object')\n"
          ]
        }
      ]
    },
    {
      "cell_type": "code",
      "source": [
        "print(len(test_df['prognosa'].unique()))"
      ],
      "metadata": {
        "id": "MF4ZtKUgYUsp",
        "colab": {
          "base_uri": "https://localhost:8080/"
        },
        "outputId": "bebf5839-2fb9-4883-b63d-2f16097781bc"
      },
      "execution_count": 16,
      "outputs": [
        {
          "output_type": "stream",
          "name": "stdout",
          "text": [
            "41\n"
          ]
        }
      ]
    },
    {
      "cell_type": "code",
      "source": [
        "x_train.shape\n",
        "x_test.shape\n",
        "print(x_train[:0])"
      ],
      "metadata": {
        "id": "aVpvdiTuYW5v",
        "colab": {
          "base_uri": "https://localhost:8080/"
        },
        "outputId": "621f232d-5e37-4d6c-ad6c-ecdc77a787fb"
      },
      "execution_count": 17,
      "outputs": [
        {
          "output_type": "stream",
          "name": "stdout",
          "text": [
            "Empty DataFrame\n",
            "Columns: [gatal, ruam kulit, nodal skin erupsi, terus menerus bersin, gemetaran, panas dingin, nyeri sendi, sakit perut, keasaman, bisul di lidah, pengecilan otot, muntah, pembakaran kemih, bercak buang air kecil, kelelahan, berat penambahan, kecemasan, tangan dan kaki dingin, suasana hati ayunan, berat penurunan, kegelisahan, kelesuan, patch in throat, kadar gula tidak teratur, batuk, demam tinggi, cekung mata, sesak napas, berkeringat, dehidrasi, gangguan pencernaan, sakit kepala, kulit kekuningan, urin gelap, mual, kehilangan selera makan, rasa sakit di belakang mata, sakit punggung, sembelit, sakit perut.1, diare, ringan demam, kuning urin, mata menguning, kegagalan hati akut, kelebihan cairan, pembengkakan perut, pembengkakan kelenjar getah bening]\n",
            "Index: []\n",
            "\n",
            "[0 rows x 48 columns]\n"
          ]
        }
      ]
    },
    {
      "cell_type": "markdown",
      "source": [
        "## mengonversi label kelas penyakit menjadi bentuk angka yang sesuai untuk pelatihan model."
      ],
      "metadata": {
        "id": "XKwX_xSK3LQ7"
      }
    },
    {
      "cell_type": "code",
      "source": [
        "le=LabelEncoder()\n",
        "dummy=le.fit_transform(train_df['prognosa'])\n",
        "y_train=pd.DataFrame(dummy)"
      ],
      "metadata": {
        "id": "-rsLDnO1YX1r"
      },
      "execution_count": 18,
      "outputs": []
    },
    {
      "cell_type": "markdown",
      "source": [
        "## Memasukkan indeks penyakitnya"
      ],
      "metadata": {
        "id": "RjkNnRQ0YcgV"
      }
    },
    {
      "cell_type": "code",
      "source": [
        "print(le.classes_)"
      ],
      "metadata": {
        "id": "051Xfn8FYdI5",
        "colab": {
          "base_uri": "https://localhost:8080/"
        },
        "outputId": "5e379459-2b9e-4bc0-adff-a73643e23fa8"
      },
      "execution_count": 19,
      "outputs": [
        {
          "output_type": "stream",
          "name": "stdout",
          "text": [
            "['(vertigo) Paroymsal  Positional Vertigo' 'AIDS' 'Acne'\n",
            " 'Alcoholic hepatitis' 'Allergy' 'Arthritis' 'Bronchial Asthma'\n",
            " 'Cervical spondylosis' 'Chicken pox' 'Chronic cholestasis' 'Common Cold'\n",
            " 'Dengue' 'Diabetes ' 'Dimorphic hemmorhoids(piles)' 'Drug Reaction'\n",
            " 'Fungal infection' 'GERD' 'Gastroenteritis' 'Heart attack' 'Hepatitis B'\n",
            " 'Hepatitis C' 'Hepatitis D' 'Hepatitis E' 'Hypertension '\n",
            " 'Hyperthyroidism' 'Hypoglycemia' 'Hypothyroidism' 'Impetigo' 'Jaundice'\n",
            " 'Malaria' 'Migraine' 'Osteoarthristis' 'Paralysis (brain hemorrhage)'\n",
            " 'Peptic ulcer diseae' 'Pneumonia' 'Psoriasis' 'Tuberculosis' 'Typhoid'\n",
            " 'Urinary tract infection' 'Varicose veins' 'hepatitis A']\n"
          ]
        }
      ]
    },
    {
      "cell_type": "code",
      "source": [
        "y_train.head()\n",
        "print(y_train)"
      ],
      "metadata": {
        "id": "R_tt5WixYtL4",
        "colab": {
          "base_uri": "https://localhost:8080/"
        },
        "outputId": "a4b753be-e64a-4c39-b4d1-380b7872b831"
      },
      "execution_count": 20,
      "outputs": [
        {
          "output_type": "stream",
          "name": "stdout",
          "text": [
            "       0\n",
            "0     15\n",
            "1     15\n",
            "2     15\n",
            "3     15\n",
            "4     15\n",
            "...   ..\n",
            "4915   0\n",
            "4916   2\n",
            "4917  38\n",
            "4918  35\n",
            "4919  27\n",
            "\n",
            "[4920 rows x 1 columns]\n"
          ]
        }
      ]
    },
    {
      "cell_type": "code",
      "source": [
        "dummy=LabelEncoder().fit_transform(test_df['prognosa'])\n",
        "y_test=pd.DataFrame(dummy)\n",
        "y_test.head()\n",
        "len(y_test)"
      ],
      "metadata": {
        "id": "erE3nHJPYuhQ",
        "colab": {
          "base_uri": "https://localhost:8080/"
        },
        "outputId": "ab0b7f32-b69e-4a9f-e7e6-3398e613405c"
      },
      "execution_count": 21,
      "outputs": [
        {
          "output_type": "execute_result",
          "data": {
            "text/plain": [
              "42"
            ]
          },
          "metadata": {},
          "execution_count": 21
        }
      ]
    },
    {
      "cell_type": "markdown",
      "source": [
        "## Pembuatan Model Neural Network (ANN)"
      ],
      "metadata": {
        "id": "ojZC4rWN4Bf-"
      }
    },
    {
      "cell_type": "code",
      "source": [
        "model=Sequential([\n",
        "    Dense(units=200,activation='relu'),\n",
        "    Dense(units=150,activation='relu'),\n",
        "    Dense(units=100, activation='relu'),\n",
        "    Dense(units=42,activation='softmax')\n",
        "])"
      ],
      "metadata": {
        "id": "iu6AdBdGYweT"
      },
      "execution_count": 22,
      "outputs": []
    },
    {
      "cell_type": "code",
      "source": [
        "model.compile(\n",
        "    loss=SparseCategoricalCrossentropy(from_logits=True),\n",
        "    optimizer=tf.keras.optimizers.Adam(learning_rate=0.001),\n",
        "    metrics=['accuracy'])\n",
        "# model.summary()"
      ],
      "metadata": {
        "id": "wn2Z_bIfYzN_"
      },
      "execution_count": 23,
      "outputs": []
    },
    {
      "cell_type": "markdown",
      "source": [
        " ## Pelatihan Model Neural Network model.fit()"
      ],
      "metadata": {
        "id": "F8rOMcZQ4OuT"
      }
    },
    {
      "cell_type": "code",
      "source": [
        "history=model.fit(x_train,y_train,epochs=10,batch_size=128,validation_data=(x_test,y_test))"
      ],
      "metadata": {
        "id": "WIHez1Z6Y1Kx",
        "colab": {
          "base_uri": "https://localhost:8080/"
        },
        "outputId": "c1efb966-c241-462f-fe8c-0b6e47a26f46"
      },
      "execution_count": 24,
      "outputs": [
        {
          "output_type": "stream",
          "name": "stdout",
          "text": [
            "Epoch 1/10\n"
          ]
        },
        {
          "output_type": "stream",
          "name": "stderr",
          "text": [
            "/usr/local/lib/python3.10/dist-packages/keras/src/backend.py:5729: UserWarning: \"`sparse_categorical_crossentropy` received `from_logits=True`, but the `output` argument was produced by a Softmax activation and thus does not represent logits. Was this intended?\n",
            "  output, from_logits = _get_logits(\n"
          ]
        },
        {
          "output_type": "stream",
          "name": "stdout",
          "text": [
            "39/39 [==============================] - 1s 10ms/step - loss: 2.8742 - accuracy: 0.5339 - val_loss: 1.4309 - val_accuracy: 0.8810\n",
            "Epoch 2/10\n",
            "15/39 [==========>...................] - ETA: 0s - loss: 1.0636 - accuracy: 0.9083"
          ]
        },
        {
          "output_type": "stream",
          "name": "stderr",
          "text": [
            "/usr/local/lib/python3.10/dist-packages/keras/src/backend.py:5729: UserWarning: \"`sparse_categorical_crossentropy` received `from_logits=True`, but the `output` argument was produced by a Softmax activation and thus does not represent logits. Was this intended?\n",
            "  output, from_logits = _get_logits(\n"
          ]
        },
        {
          "output_type": "stream",
          "name": "stdout",
          "text": [
            "39/39 [==============================] - 0s 5ms/step - loss: 0.6650 - accuracy: 0.9333 - val_loss: 0.1575 - val_accuracy: 1.0000\n",
            "Epoch 3/10\n",
            "39/39 [==============================] - 0s 4ms/step - loss: 0.1601 - accuracy: 0.9756 - val_loss: 0.0512 - val_accuracy: 1.0000\n",
            "Epoch 4/10\n",
            "39/39 [==============================] - 0s 5ms/step - loss: 0.1133 - accuracy: 0.9774 - val_loss: 0.0273 - val_accuracy: 1.0000\n",
            "Epoch 5/10\n",
            "39/39 [==============================] - 0s 5ms/step - loss: 0.1023 - accuracy: 0.9774 - val_loss: 0.0258 - val_accuracy: 1.0000\n",
            "Epoch 6/10\n",
            "39/39 [==============================] - 0s 5ms/step - loss: 0.0946 - accuracy: 0.9780 - val_loss: 0.0187 - val_accuracy: 1.0000\n",
            "Epoch 7/10\n",
            "39/39 [==============================] - 0s 4ms/step - loss: 0.0914 - accuracy: 0.9780 - val_loss: 0.0261 - val_accuracy: 1.0000\n",
            "Epoch 8/10\n",
            "39/39 [==============================] - 0s 5ms/step - loss: 0.0928 - accuracy: 0.9780 - val_loss: 0.0252 - val_accuracy: 1.0000\n",
            "Epoch 9/10\n",
            "39/39 [==============================] - 0s 5ms/step - loss: 0.0926 - accuracy: 0.9780 - val_loss: 0.0293 - val_accuracy: 1.0000\n",
            "Epoch 10/10\n",
            "39/39 [==============================] - 0s 5ms/step - loss: 0.0891 - accuracy: 0.9780 - val_loss: 0.0226 - val_accuracy: 1.0000\n"
          ]
        }
      ]
    },
    {
      "cell_type": "code",
      "source": [
        "prediction=model.predict(x_test)\n",
        "prediction[1]"
      ],
      "metadata": {
        "id": "t92H3PxQY2so",
        "colab": {
          "base_uri": "https://localhost:8080/"
        },
        "outputId": "733d8def-22c8-4e18-daa5-cf97f1a1077c"
      },
      "execution_count": 25,
      "outputs": [
        {
          "output_type": "stream",
          "name": "stdout",
          "text": [
            "2/2 [==============================] - 0s 7ms/step\n"
          ]
        },
        {
          "output_type": "execute_result",
          "data": {
            "text/plain": [
              "array([5.9520569e-11, 3.3321296e-10, 1.8336217e-06, 1.3333980e-06,\n",
              "       9.9990612e-01, 2.7743756e-05, 4.5596005e-10, 1.3347129e-05,\n",
              "       9.9030104e-11, 1.9251747e-09, 2.1195190e-05, 1.2825186e-09,\n",
              "       8.9752358e-11, 1.8468199e-05, 2.5496580e-10, 1.0432060e-08,\n",
              "       3.3735532e-08, 6.9828457e-07, 8.5234703e-08, 3.5889816e-10,\n",
              "       9.1283274e-13, 1.6037354e-11, 2.9536082e-09, 2.1039774e-07,\n",
              "       1.5290069e-09, 7.5937999e-11, 2.0053444e-07, 1.5198945e-07,\n",
              "       7.3881779e-08, 4.9426476e-09, 2.6166235e-08, 3.1268034e-06,\n",
              "       6.5854437e-09, 7.1984912e-10, 5.3947588e-08, 2.2578874e-08,\n",
              "       1.8773751e-08, 3.3320075e-07, 3.1929137e-06, 1.6541728e-06,\n",
              "       7.5715061e-09, 4.1390984e-12], dtype=float32)"
            ]
          },
          "metadata": {},
          "execution_count": 25
        }
      ]
    },
    {
      "cell_type": "code",
      "source": [
        "import matplotlib.pyplot as plt\n",
        "plt.plot(history.history['loss'], label='train')\n",
        "plt.xlabel('epochs')\n",
        "plt.ylabel('loss')\n",
        "plt.show()\n",
        "\n",
        "plt.plot(history.history['accuracy'])\n",
        "plt.xlabel('epochs')\n",
        "plt.ylabel('accuracy')\n",
        "plt.show()\n"
      ],
      "metadata": {
        "id": "DPpyBf8lY4iU",
        "colab": {
          "base_uri": "https://localhost:8080/",
          "height": 891
        },
        "outputId": "19c96acb-d3de-40ad-8e59-71206ff22395"
      },
      "execution_count": 26,
      "outputs": [
        {
          "output_type": "display_data",
          "data": {
            "text/plain": [
              "<Figure size 640x480 with 1 Axes>"
            ],
            "image/png": "[encoded data removed]"
          },
          "metadata": {}
        },
        {
          "output_type": "display_data",
          "data": {
            "text/plain": [
              "<Figure size 640x480 with 1 Axes>"
            ],
            "image/png": "[encoded data removed]"
          },
          "metadata": {}
        }
      ]
    },
    {
      "cell_type": "code",
      "source": [
        "pred=np.argmax(prediction, axis=1)\n",
        "original=y_test[0]\n",
        "print(original[41])"
      ],
      "metadata": {
        "id": "QH1cOc4IY9xa",
        "colab": {
          "base_uri": "https://localhost:8080/"
        },
        "outputId": "73056d03-1363-4ece-f119-5e62e479cb7b"
      },
      "execution_count": 27,
      "outputs": [
        {
          "output_type": "stream",
          "name": "stdout",
          "text": [
            "15\n"
          ]
        }
      ]
    },
    {
      "cell_type": "code",
      "source": [
        "print(y_test.shape[0])"
      ],
      "metadata": {
        "id": "bwEDAkRqY-5w",
        "colab": {
          "base_uri": "https://localhost:8080/"
        },
        "outputId": "237b262b-86b3-4a9f-d0e4-52852f62dc86"
      },
      "execution_count": 28,
      "outputs": [
        {
          "output_type": "stream",
          "name": "stdout",
          "text": [
            "42\n"
          ]
        }
      ]
    },
    {
      "cell_type": "markdown",
      "source": [
        "## menghitung confision matrix dengan menggunakan jumlah prediksi yang benar dibagi dengan jumlah total data pengujian."
      ],
      "metadata": {
        "id": "zvYQLtwe49nj"
      }
    },
    {
      "cell_type": "code",
      "source": [
        "confusion = confusion_matrix(original,pred)\n",
        "\n",
        "fig = px.imshow(confusion, labels=dict(x=\"Predicted Value\", y=\"Actual Vlaue\"),text_auto=True, title='Confusion Matrix')\n",
        "fig.update_layout(title_x=0.5)\n",
        "fig.show()"
      ],
      "metadata": {
        "id": "1e7OUFbSZA_x",
        "colab": {
          "base_uri": "https://localhost:8080/",
          "height": 542
        },
        "outputId": "502f7df0-484e-4bb8-df7c-2d73de40321f"
      },
      "execution_count": 29,
      "outputs": [
        {
          "output_type": "display_data",
          "data": {
            "text/html": [
              "<html>\n",
              "<head><meta charset=\"utf-8\" /></head>\n",
              "<body>\n",
              "    <div>            <script src=\"https://cdnjs.cloudflare.com/ajax/libs/mathjax/2.7.5/MathJax.js?config=TeX-AMS-MML_SVG\"></script><script type=\"text/javascript\">if (window.MathJax && window.MathJax.Hub && window.MathJax.Hub.Config) {window.MathJax.Hub.Config({SVG: {font: \"STIX-Web\"}});}</script>                <script type=\"text/javascript\">window.PlotlyConfig = {MathJaxConfig: 'local'};</script>\n",
              "        <script charset=\"utf-8\" src=\"https://cdn.plot.ly/plotly-2.24.1.min.js\"></script>                <div id=\"d8c1ef02-5ee9-419d-b0bf-8c311071a64f\" class=\"plotly-graph-div\" style=\"height:525px; width:100%;\"></div>            <script type=\"text/javascript\">                                    window.PLOTLYENV=window.PLOTLYENV || {};                                    if (document.getElementById(\"d8c1ef02-5ee9-419d-b0bf-8c311071a64f\")) {                    Plotly.newPlot(                        \"d8c1ef02-5ee9-419d-b0bf-8c311071a64f\",                        [{\"coloraxis\":\"coloraxis\",\"name\":\"0\",\"texttemplate\":\"%{z}\",\"z\":[[1,0,0,0,0,0,0,0,0,0,0,0,0,0,0,0,0,0,0,0,0,0,0,0,0,0,0,0,0,0,0,0,0,0,0,0,0,0,0,0,0],[0,1,0,0,0,0,0,0,0,0,0,0,0,0,0,0,0,0,0,0,0,0,0,0,0,0,0,0,0,0,0,0,0,0,0,0,0,0,0,0,0],[0,0,1,0,0,0,0,0,0,0,0,0,0,0,0,0,0,0,0,0,0,0,0,0,0,0,0,0,0,0,0,0,0,0,0,0,0,0,0,0,0],[0,0,0,1,0,0,0,0,0,0,0,0,0,0,0,0,0,0,0,0,0,0,0,0,0,0,0,0,0,0,0,0,0,0,0,0,0,0,0,0,0],[0,0,0,0,1,0,0,0,0,0,0,0,0,0,0,0,0,0,0,0,0,0,0,0,0,0,0,0,0,0,0,0,0,0,0,0,0,0,0,0,0],[0,0,0,0,0,1,0,0,0,0,0,0,0,0,0,0,0,0,0,0,0,0,0,0,0,0,0,0,0,0,0,0,0,0,0,0,0,0,0,0,0],[0,0,0,0,0,0,1,0,0,0,0,0,0,0,0,0,0,0,0,0,0,0,0,0,0,0,0,0,0,0,0,0,0,0,0,0,0,0,0,0,0],[0,0,0,0,0,0,0,1,0,0,0,0,0,0,0,0,0,0,0,0,0,0,0,0,0,0,0,0,0,0,0,0,0,0,0,0,0,0,0,0,0],[0,0,0,0,0,0,0,0,1,0,0,0,0,0,0,0,0,0,0,0,0,0,0,0,0,0,0,0,0,0,0,0,0,0,0,0,0,0,0,0,0],[0,0,0,0,0,0,0,0,0,1,0,0,0,0,0,0,0,0,0,0,0,0,0,0,0,0,0,0,0,0,0,0,0,0,0,0,0,0,0,0,0],[0,0,0,0,0,0,0,0,0,0,1,0,0,0,0,0,0,0,0,0,0,0,0,0,0,0,0,0,0,0,0,0,0,0,0,0,0,0,0,0,0],[0,0,0,0,0,0,0,0,0,0,0,1,0,0,0,0,0,0,0,0,0,0,0,0,0,0,0,0,0,0,0,0,0,0,0,0,0,0,0,0,0],[0,0,0,0,0,0,0,0,0,0,0,0,1,0,0,0,0,0,0,0,0,0,0,0,0,0,0,0,0,0,0,0,0,0,0,0,0,0,0,0,0],[0,0,0,0,0,0,0,0,0,0,0,0,0,1,0,0,0,0,0,0,0,0,0,0,0,0,0,0,0,0,0,0,0,0,0,0,0,0,0,0,0],[0,0,0,0,0,0,0,0,0,0,0,0,0,0,1,0,0,0,0,0,0,0,0,0,0,0,0,0,0,0,0,0,0,0,0,0,0,0,0,0,0],[0,0,0,0,0,0,0,0,0,0,0,0,0,0,0,2,0,0,0,0,0,0,0,0,0,0,0,0,0,0,0,0,0,0,0,0,0,0,0,0,0],[0,0,0,0,0,0,0,0,0,0,0,0,0,0,0,0,1,0,0,0,0,0,0,0,0,0,0,0,0,0,0,0,0,0,0,0,0,0,0,0,0],[0,0,0,0,0,0,0,0,0,0,0,0,0,0,0,0,0,1,0,0,0,0,0,0,0,0,0,0,0,0,0,0,0,0,0,0,0,0,0,0,0],[0,0,0,0,0,0,0,0,0,0,0,0,0,0,0,0,0,0,1,0,0,0,0,0,0,0,0,0,0,0,0,0,0,0,0,0,0,0,0,0,0],[0,0,0,0,0,0,0,0,0,0,0,0,0,0,0,0,0,0,0,1,0,0,0,0,0,0,0,0,0,0,0,0,0,0,0,0,0,0,0,0,0],[0,0,0,0,0,0,0,0,0,0,0,0,0,0,0,0,0,0,0,0,1,0,0,0,0,0,0,0,0,0,0,0,0,0,0,0,0,0,0,0,0],[0,0,0,0,0,0,0,0,0,0,0,0,0,0,0,0,0,0,0,0,0,1,0,0,0,0,0,0,0,0,0,0,0,0,0,0,0,0,0,0,0],[0,0,0,0,0,0,0,0,0,0,0,0,0,0,0,0,0,0,0,0,0,0,1,0,0,0,0,0,0,0,0,0,0,0,0,0,0,0,0,0,0],[0,0,0,0,0,0,0,0,0,0,0,0,0,0,0,0,0,0,0,0,0,0,0,1,0,0,0,0,0,0,0,0,0,0,0,0,0,0,0,0,0],[0,0,0,0,0,0,0,0,0,0,0,0,0,0,0,0,0,0,0,0,0,0,0,0,1,0,0,0,0,0,0,0,0,0,0,0,0,0,0,0,0],[0,0,0,0,0,0,0,0,0,0,0,0,0,0,0,0,0,0,0,0,0,0,0,0,0,1,0,0,0,0,0,0,0,0,0,0,0,0,0,0,0],[0,0,0,0,0,0,0,0,0,0,0,0,0,0,0,0,0,0,0,0,0,0,0,0,0,0,1,0,0,0,0,0,0,0,0,0,0,0,0,0,0],[0,0,0,0,0,0,0,0,0,0,0,0,0,0,0,0,0,0,0,0,0,0,0,0,0,0,0,1,0,0,0,0,0,0,0,0,0,0,0,0,0],[0,0,0,0,0,0,0,0,0,0,0,0,0,0,0,0,0,0,0,0,0,0,0,0,0,0,0,0,1,0,0,0,0,0,0,0,0,0,0,0,0],[0,0,0,0,0,0,0,0,0,0,0,0,0,0,0,0,0,0,0,0,0,0,0,0,0,0,0,0,0,1,0,0,0,0,0,0,0,0,0,0,0],[0,0,0,0,0,0,0,0,0,0,0,0,0,0,0,0,0,0,0,0,0,0,0,0,0,0,0,0,0,0,1,0,0,0,0,0,0,0,0,0,0],[0,0,0,0,0,0,0,0,0,0,0,0,0,0,0,0,0,0,0,0,0,0,0,0,0,0,0,0,0,0,0,1,0,0,0,0,0,0,0,0,0],[0,0,0,0,0,0,0,0,0,0,0,0,0,0,0,0,0,0,0,0,0,0,0,0,0,0,0,0,0,0,0,0,1,0,0,0,0,0,0,0,0],[0,0,0,0,0,0,0,0,0,0,0,0,0,0,0,0,0,0,0,0,0,0,0,0,0,0,0,0,0,0,0,0,0,1,0,0,0,0,0,0,0],[0,0,0,0,0,0,0,0,0,0,0,0,0,0,0,0,0,0,0,0,0,0,0,0,0,0,0,0,0,0,0,0,0,0,1,0,0,0,0,0,0],[0,0,0,0,0,0,0,0,0,0,0,0,0,0,0,0,0,0,0,0,0,0,0,0,0,0,0,0,0,0,0,0,0,0,0,1,0,0,0,0,0],[0,0,0,0,0,0,0,0,0,0,0,0,0,0,0,0,0,0,0,0,0,0,0,0,0,0,0,0,0,0,0,0,0,0,0,0,1,0,0,0,0],[0,0,0,0,0,0,0,0,0,0,0,0,0,0,0,0,0,0,0,0,0,0,0,0,0,0,0,0,0,0,0,0,0,0,0,0,0,1,0,0,0],[0,0,0,0,0,0,0,0,0,0,0,0,0,0,0,0,0,0,0,0,0,0,0,0,0,0,0,0,0,0,0,0,0,0,0,0,0,0,1,0,0],[0,0,0,0,0,0,0,0,0,0,0,0,0,0,0,0,0,0,0,0,0,0,0,0,0,0,0,0,0,0,0,0,0,0,0,0,0,0,0,1,0],[0,0,0,0,0,0,0,0,0,0,0,0,0,0,0,0,0,0,0,0,0,0,0,0,0,0,0,0,0,0,0,0,0,0,0,0,0,0,0,0,1]],\"type\":\"heatmap\",\"xaxis\":\"x\",\"yaxis\":\"y\",\"hovertemplate\":\"Predicted Value: %{x}\\u003cbr\\u003eActual Vlaue: %{y}\\u003cbr\\u003ecolor: %{z}\\u003cextra\\u003e\\u003c\\u002fextra\\u003e\"}],                        {\"template\":{\"data\":{\"histogram2dcontour\":[{\"type\":\"histogram2dcontour\",\"colorbar\":{\"outlinewidth\":0,\"ticks\":\"\"},\"colorscale\":[[0.0,\"#0d0887\"],[0.1111111111111111,\"#46039f\"],[0.2222222222222222,\"#7201a8\"],[0.3333333333333333,\"#9c179e\"],[0.4444444444444444,\"#bd3786\"],[0.5555555555555556,\"#d8576b\"],[0.6666666666666666,\"#ed7953\"],[0.7777777777777778,\"#fb9f3a\"],[0.8888888888888888,\"#fdca26\"],[1.0,\"#f0f921\"]]}],\"choropleth\":[{\"type\":\"choropleth\",\"colorbar\":{\"outlinewidth\":0,\"ticks\":\"\"}}],\"histogram2d\":[{\"type\":\"histogram2d\",\"colorbar\":{\"outlinewidth\":0,\"ticks\":\"\"},\"colorscale\":[[0.0,\"#0d0887\"],[0.1111111111111111,\"#46039f\"],[0.2222222222222222,\"#7201a8\"],[0.3333333333333333,\"#9c179e\"],[0.4444444444444444,\"#bd3786\"],[0.5555555555555556,\"#d8576b\"],[0.6666666666666666,\"#ed7953\"],[0.7777777777777778,\"#fb9f3a\"],[0.8888888888888888,\"#fdca26\"],[1.0,\"#f0f921\"]]}],\"heatmap\":[{\"type\":\"heatmap\",\"colorbar\":{\"outlinewidth\":0,\"ticks\":\"\"},\"colorscale\":[[0.0,\"#0d0887\"],[0.1111111111111111,\"#46039f\"],[0.2222222222222222,\"#7201a8\"],[0.3333333333333333,\"#9c179e\"],[0.4444444444444444,\"#bd3786\"],[0.5555555555555556,\"#d8576b\"],[0.6666666666666666,\"#ed7953\"],[0.7777777777777778,\"#fb9f3a\"],[0.8888888888888888,\"#fdca26\"],[1.0,\"#f0f921\"]]}],\"heatmapgl\":[{\"type\":\"heatmapgl\",\"colorbar\":{\"outlinewidth\":0,\"ticks\":\"\"},\"colorscale\":[[0.0,\"#0d0887\"],[0.1111111111111111,\"#46039f\"],[0.2222222222222222,\"#7201a8\"],[0.3333333333333333,\"#9c179e\"],[0.4444444444444444,\"#bd3786\"],[0.5555555555555556,\"#d8576b\"],[0.6666666666666666,\"#ed7953\"],[0.7777777777777778,\"#fb9f3a\"],[0.8888888888888888,\"#fdca26\"],[1.0,\"#f0f921\"]]}],\"contourcarpet\":[{\"type\":\"contourcarpet\",\"colorbar\":{\"outlinewidth\":0,\"ticks\":\"\"}}],\"contour\":[{\"type\":\"contour\",\"colorbar\":{\"outlinewidth\":0,\"ticks\":\"\"},\"colorscale\":[[0.0,\"#0d0887\"],[0.1111111111111111,\"#46039f\"],[0.2222222222222222,\"#7201a8\"],[0.3333333333333333,\"#9c179e\"],[0.4444444444444444,\"#bd3786\"],[0.5555555555555556,\"#d8576b\"],[0.6666666666666666,\"#ed7953\"],[0.7777777777777778,\"#fb9f3a\"],[0.8888888888888888,\"#fdca26\"],[1.0,\"#f0f921\"]]}],\"surface\":[{\"type\":\"surface\",\"colorbar\":{\"outlinewidth\":0,\"ticks\":\"\"},\"colorscale\":[[0.0,\"#0d0887\"],[0.1111111111111111,\"#46039f\"],[0.2222222222222222,\"#7201a8\"],[0.3333333333333333,\"#9c179e\"],[0.4444444444444444,\"#bd3786\"],[0.5555555555555556,\"#d8576b\"],[0.6666666666666666,\"#ed7953\"],[0.7777777777777778,\"#fb9f3a\"],[0.8888888888888888,\"#fdca26\"],[1.0,\"#f0f921\"]]}],\"mesh3d\":[{\"type\":\"mesh3d\",\"colorbar\":{\"outlinewidth\":0,\"ticks\":\"\"}}],\"scatter\":[{\"fillpattern\":{\"fillmode\":\"overlay\",\"size\":10,\"solidity\":0.2},\"type\":\"scatter\"}],\"parcoords\":[{\"type\":\"parcoords\",\"line\":{\"colorbar\":{\"outlinewidth\":0,\"ticks\":\"\"}}}],\"scatterpolargl\":[{\"type\":\"scatterpolargl\",\"marker\":{\"colorbar\":{\"outlinewidth\":0,\"ticks\":\"\"}}}],\"bar\":[{\"error_x\":{\"color\":\"#2a3f5f\"},\"error_y\":{\"color\":\"#2a3f5f\"},\"marker\":{\"line\":{\"color\":\"#E5ECF6\",\"width\":0.5},\"pattern\":{\"fillmode\":\"overlay\",\"size\":10,\"solidity\":0.2}},\"type\":\"bar\"}],\"scattergeo\":[{\"type\":\"scattergeo\",\"marker\":{\"colorbar\":{\"outlinewidth\":0,\"ticks\":\"\"}}}],\"scatterpolar\":[{\"type\":\"scatterpolar\",\"marker\":{\"colorbar\":{\"outlinewidth\":0,\"ticks\":\"\"}}}],\"histogram\":[{\"marker\":{\"pattern\":{\"fillmode\":\"overlay\",\"size\":10,\"solidity\":0.2}},\"type\":\"histogram\"}],\"scattergl\":[{\"type\":\"scattergl\",\"marker\":{\"colorbar\":{\"outlinewidth\":0,\"ticks\":\"\"}}}],\"scatter3d\":[{\"type\":\"scatter3d\",\"line\":{\"colorbar\":{\"outlinewidth\":0,\"ticks\":\"\"}},\"marker\":{\"colorbar\":{\"outlinewidth\":0,\"ticks\":\"\"}}}],\"scattermapbox\":[{\"type\":\"scattermapbox\",\"marker\":{\"colorbar\":{\"outlinewidth\":0,\"ticks\":\"\"}}}],\"scatterternary\":[{\"type\":\"scatterternary\",\"marker\":{\"colorbar\":{\"outlinewidth\":0,\"ticks\":\"\"}}}],\"scattercarpet\":[{\"type\":\"scattercarpet\",\"marker\":{\"colorbar\":{\"outlinewidth\":0,\"ticks\":\"\"}}}],\"carpet\":[{\"aaxis\":{\"endlinecolor\":\"#2a3f5f\",\"gridcolor\":\"white\",\"linecolor\":\"white\",\"minorgridcolor\":\"white\",\"startlinecolor\":\"#2a3f5f\"},\"baxis\":{\"endlinecolor\":\"#2a3f5f\",\"gridcolor\":\"white\",\"linecolor\":\"white\",\"minorgridcolor\":\"white\",\"startlinecolor\":\"#2a3f5f\"},\"type\":\"carpet\"}],\"table\":[{\"cells\":{\"fill\":{\"color\":\"#EBF0F8\"},\"line\":{\"color\":\"white\"}},\"header\":{\"fill\":{\"color\":\"#C8D4E3\"},\"line\":{\"color\":\"white\"}},\"type\":\"table\"}],\"barpolar\":[{\"marker\":{\"line\":{\"color\":\"#E5ECF6\",\"width\":0.5},\"pattern\":{\"fillmode\":\"overlay\",\"size\":10,\"solidity\":0.2}},\"type\":\"barpolar\"}],\"pie\":[{\"automargin\":true,\"type\":\"pie\"}]},\"layout\":{\"autotypenumbers\":\"strict\",\"colorway\":[\"#636efa\",\"#EF553B\",\"#00cc96\",\"#ab63fa\",\"#FFA15A\",\"#19d3f3\",\"#FF6692\",\"#B6E880\",\"#FF97FF\",\"#FECB52\"],\"font\":{\"color\":\"#2a3f5f\"},\"hovermode\":\"closest\",\"hoverlabel\":{\"align\":\"left\"},\"paper_bgcolor\":\"white\",\"plot_bgcolor\":\"#E5ECF6\",\"polar\":{\"bgcolor\":\"#E5ECF6\",\"angularaxis\":{\"gridcolor\":\"white\",\"linecolor\":\"white\",\"ticks\":\"\"},\"radialaxis\":{\"gridcolor\":\"white\",\"linecolor\":\"white\",\"ticks\":\"\"}},\"ternary\":{\"bgcolor\":\"#E5ECF6\",\"aaxis\":{\"gridcolor\":\"white\",\"linecolor\":\"white\",\"ticks\":\"\"},\"baxis\":{\"gridcolor\":\"white\",\"linecolor\":\"white\",\"ticks\":\"\"},\"caxis\":{\"gridcolor\":\"white\",\"linecolor\":\"white\",\"ticks\":\"\"}},\"coloraxis\":{\"colorbar\":{\"outlinewidth\":0,\"ticks\":\"\"}},\"colorscale\":{\"sequential\":[[0.0,\"#0d0887\"],[0.1111111111111111,\"#46039f\"],[0.2222222222222222,\"#7201a8\"],[0.3333333333333333,\"#9c179e\"],[0.4444444444444444,\"#bd3786\"],[0.5555555555555556,\"#d8576b\"],[0.6666666666666666,\"#ed7953\"],[0.7777777777777778,\"#fb9f3a\"],[0.8888888888888888,\"#fdca26\"],[1.0,\"#f0f921\"]],\"sequentialminus\":[[0.0,\"#0d0887\"],[0.1111111111111111,\"#46039f\"],[0.2222222222222222,\"#7201a8\"],[0.3333333333333333,\"#9c179e\"],[0.4444444444444444,\"#bd3786\"],[0.5555555555555556,\"#d8576b\"],[0.6666666666666666,\"#ed7953\"],[0.7777777777777778,\"#fb9f3a\"],[0.8888888888888888,\"#fdca26\"],[1.0,\"#f0f921\"]],\"diverging\":[[0,\"#8e0152\"],[0.1,\"#c51b7d\"],[0.2,\"#de77ae\"],[0.3,\"#f1b6da\"],[0.4,\"#fde0ef\"],[0.5,\"#f7f7f7\"],[0.6,\"#e6f5d0\"],[0.7,\"#b8e186\"],[0.8,\"#7fbc41\"],[0.9,\"#4d9221\"],[1,\"#276419\"]]},\"xaxis\":{\"gridcolor\":\"white\",\"linecolor\":\"white\",\"ticks\":\"\",\"title\":{\"standoff\":15},\"zerolinecolor\":\"white\",\"automargin\":true,\"zerolinewidth\":2},\"yaxis\":{\"gridcolor\":\"white\",\"linecolor\":\"white\",\"ticks\":\"\",\"title\":{\"standoff\":15},\"zerolinecolor\":\"white\",\"automargin\":true,\"zerolinewidth\":2},\"scene\":{\"xaxis\":{\"backgroundcolor\":\"#E5ECF6\",\"gridcolor\":\"white\",\"linecolor\":\"white\",\"showbackground\":true,\"ticks\":\"\",\"zerolinecolor\":\"white\",\"gridwidth\":2},\"yaxis\":{\"backgroundcolor\":\"#E5ECF6\",\"gridcolor\":\"white\",\"linecolor\":\"white\",\"showbackground\":true,\"ticks\":\"\",\"zerolinecolor\":\"white\",\"gridwidth\":2},\"zaxis\":{\"backgroundcolor\":\"#E5ECF6\",\"gridcolor\":\"white\",\"linecolor\":\"white\",\"showbackground\":true,\"ticks\":\"\",\"zerolinecolor\":\"white\",\"gridwidth\":2}},\"shapedefaults\":{\"line\":{\"color\":\"#2a3f5f\"}},\"annotationdefaults\":{\"arrowcolor\":\"#2a3f5f\",\"arrowhead\":0,\"arrowwidth\":1},\"geo\":{\"bgcolor\":\"white\",\"landcolor\":\"#E5ECF6\",\"subunitcolor\":\"white\",\"showland\":true,\"showlakes\":true,\"lakecolor\":\"white\"},\"title\":{\"x\":0.05},\"mapbox\":{\"style\":\"light\"}}},\"xaxis\":{\"anchor\":\"y\",\"domain\":[0.0,1.0],\"scaleanchor\":\"y\",\"constrain\":\"domain\",\"title\":{\"text\":\"Predicted Value\"}},\"yaxis\":{\"anchor\":\"x\",\"domain\":[0.0,1.0],\"autorange\":\"reversed\",\"constrain\":\"domain\",\"title\":{\"text\":\"Actual Vlaue\"}},\"coloraxis\":{\"colorscale\":[[0.0,\"#0d0887\"],[0.1111111111111111,\"#46039f\"],[0.2222222222222222,\"#7201a8\"],[0.3333333333333333,\"#9c179e\"],[0.4444444444444444,\"#bd3786\"],[0.5555555555555556,\"#d8576b\"],[0.6666666666666666,\"#ed7953\"],[0.7777777777777778,\"#fb9f3a\"],[0.8888888888888888,\"#fdca26\"],[1.0,\"#f0f921\"]]},\"title\":{\"text\":\"Confusion Matrix\",\"x\":0.5}},                        {\"responsive\": true}                    ).then(function(){\n",
              "                            \n",
              "var gd = document.getElementById('d8c1ef02-5ee9-419d-b0bf-8c311071a64f');\n",
              "var x = new MutationObserver(function (mutations, observer) {{\n",
              "        var display = window.getComputedStyle(gd).display;\n",
              "        if (!display || display === 'none') {{\n",
              "            console.log([gd, 'removed!']);\n",
              "            Plotly.purge(gd);\n",
              "            observer.disconnect();\n",
              "        }}\n",
              "}});\n",
              "\n",
              "// Listen for the removal of the full notebook cells\n",
              "var notebookContainer = gd.closest('#notebook-container');\n",
              "if (notebookContainer) {{\n",
              "    x.observe(notebookContainer, {childList: true});\n",
              "}}\n",
              "\n",
              "// Listen for the clearing of the current output cell\n",
              "var outputEl = gd.closest('.output');\n",
              "if (outputEl) {{\n",
              "    x.observe(outputEl, {childList: true});\n",
              "}}\n",
              "\n",
              "                        })                };                            </script>        </div>\n",
              "</body>\n",
              "</html>"
            ]
          },
          "metadata": {}
        }
      ]
    },
    {
      "cell_type": "code",
      "source": [
        "count=0\n",
        "for i in range(41):\n",
        "    if(pred[i]-original[i]!=0):\n",
        "        count+=1\n",
        "\n",
        "Test_accuracy=(42-count)/42*100\n",
        "for i in range(10):\n",
        "    print(f\"Predicted: {pred[i]}, Actual: {original[i]}\")"
      ],
      "metadata": {
        "id": "UzTfWV0IZCHN",
        "colab": {
          "base_uri": "https://localhost:8080/"
        },
        "outputId": "bdf7d4ce-d062-4f01-9504-597d8ac6bbf0"
      },
      "execution_count": 30,
      "outputs": [
        {
          "output_type": "stream",
          "name": "stdout",
          "text": [
            "Predicted: 15, Actual: 15\n",
            "Predicted: 4, Actual: 4\n",
            "Predicted: 16, Actual: 16\n",
            "Predicted: 9, Actual: 9\n",
            "Predicted: 14, Actual: 14\n",
            "Predicted: 33, Actual: 33\n",
            "Predicted: 1, Actual: 1\n",
            "Predicted: 12, Actual: 12\n",
            "Predicted: 17, Actual: 17\n",
            "Predicted: 6, Actual: 6\n"
          ]
        }
      ]
    },
    {
      "cell_type": "code",
      "source": [
        "print(\"Test Data Accuracy using ANN=\",Test_accuracy,\"%\")"
      ],
      "metadata": {
        "id": "Cw_zpuCFZE4g",
        "colab": {
          "base_uri": "https://localhost:8080/"
        },
        "outputId": "ce015d48-6010-4db7-ec22-a53c71347a2f"
      },
      "execution_count": 31,
      "outputs": [
        {
          "output_type": "stream",
          "name": "stdout",
          "text": [
            "Test Data Accuracy using ANN= 100.0 %\n"
          ]
        }
      ]
    },
    {
      "cell_type": "markdown",
      "source": [
        "## Model Random Forest"
      ],
      "metadata": {
        "id": "uapBDqHM5MLs"
      }
    },
    {
      "cell_type": "code",
      "source": [
        "clf = RandomForestClassifier(n_estimators=100, random_state=42)\n",
        "clf.fit(x_train, y_train)"
      ],
      "metadata": {
        "id": "PW_Ook8qZF_6",
        "colab": {
          "base_uri": "https://localhost:8080/",
          "height": 145
        },
        "outputId": "2c9e6d46-7495-48e0-be1f-ff76b77cfb4f"
      },
      "execution_count": 32,
      "outputs": [
        {
          "output_type": "stream",
          "name": "stderr",
          "text": [
            "<ipython-input-32-00173ff311c1>:2: DataConversionWarning:\n",
            "\n",
            "A column-vector y was passed when a 1d array was expected. Please change the shape of y to (n_samples,), for example using ravel().\n",
            "\n"
          ]
        },
        {
          "output_type": "execute_result",
          "data": {
            "text/plain": [
              "RandomForestClassifier(random_state=42)"
            ],
            "text/html": [
              "<style>#sk-container-id-1 {color: black;background-color: white;}#sk-container-id-1 pre{padding: 0;}#sk-container-id-1 div.sk-toggleable {background-color: white;}#sk-container-id-1 label.sk-toggleable__label {cursor: pointer;display: block;width: 100%;margin-bottom: 0;padding: 0.3em;box-sizing: border-box;text-align: center;}#sk-container-id-1 label.sk-toggleable__label-arrow:before {content: \"▸\";float: left;margin-right: 0.25em;color: #696969;}#sk-container-id-1 label.sk-toggleable__label-arrow:hover:before {color: black;}#sk-container-id-1 div.sk-estimator:hover label.sk-toggleable__label-arrow:before {color: black;}#sk-container-id-1 div.sk-toggleable__content {max-height: 0;max-width: 0;overflow: hidden;text-align: left;background-color: #f0f8ff;}#sk-container-id-1 div.sk-toggleable__content pre {margin: 0.2em;color: black;border-radius: 0.25em;background-color: #f0f8ff;}#sk-container-id-1 input.sk-toggleable__control:checked~div.sk-toggleable__content {max-height: 200px;max-width: 100%;overflow: auto;}#sk-container-id-1 input.sk-toggleable__control:checked~label.sk-toggleable__label-arrow:before {content: \"▾\";}#sk-container-id-1 div.sk-estimator input.sk-toggleable__control:checked~label.sk-toggleable__label {background-color: #d4ebff;}#sk-container-id-1 div.sk-label input.sk-toggleable__control:checked~label.sk-toggleable__label {background-color: #d4ebff;}#sk-container-id-1 input.sk-hidden--visually {border: 0;clip: rect(1px 1px 1px 1px);clip: rect(1px, 1px, 1px, 1px);height: 1px;margin: -1px;overflow: hidden;padding: 0;position: absolute;width: 1px;}#sk-container-id-1 div.sk-estimator {font-family: monospace;background-color: #f0f8ff;border: 1px dotted black;border-radius: 0.25em;box-sizing: border-box;margin-bottom: 0.5em;}#sk-container-id-1 div.sk-estimator:hover {background-color: #d4ebff;}#sk-container-id-1 div.sk-parallel-item::after {content: \"\";width: 100%;border-bottom: 1px solid gray;flex-grow: 1;}#sk-container-id-1 div.sk-label:hover label.sk-toggleable__label {background-color: #d4ebff;}#sk-container-id-1 div.sk-serial::before {content: \"\";position: absolute;border-left: 1px solid gray;box-sizing: border-box;top: 0;bottom: 0;left: 50%;z-index: 0;}#sk-container-id-1 div.sk-serial {display: flex;flex-direction: column;align-items: center;background-color: white;padding-right: 0.2em;padding-left: 0.2em;position: relative;}#sk-container-id-1 div.sk-item {position: relative;z-index: 1;}#sk-container-id-1 div.sk-parallel {display: flex;align-items: stretch;justify-content: center;background-color: white;position: relative;}#sk-container-id-1 div.sk-item::before, #sk-container-id-1 div.sk-parallel-item::before {content: \"\";position: absolute;border-left: 1px solid gray;box-sizing: border-box;top: 0;bottom: 0;left: 50%;z-index: -1;}#sk-container-id-1 div.sk-parallel-item {display: flex;flex-direction: column;z-index: 1;position: relative;background-color: white;}#sk-container-id-1 div.sk-parallel-item:first-child::after {align-self: flex-end;width: 50%;}#sk-container-id-1 div.sk-parallel-item:last-child::after {align-self: flex-start;width: 50%;}#sk-container-id-1 div.sk-parallel-item:only-child::after {width: 0;}#sk-container-id-1 div.sk-dashed-wrapped {border: 1px dashed gray;margin: 0 0.4em 0.5em 0.4em;box-sizing: border-box;padding-bottom: 0.4em;background-color: white;}#sk-container-id-1 div.sk-label label {font-family: monospace;font-weight: bold;display: inline-block;line-height: 1.2em;}#sk-container-id-1 div.sk-label-container {text-align: center;}#sk-container-id-1 div.sk-container {/* jupyter's `normalize.less` sets `[hidden] { display: none; }` but bootstrap.min.css set `[hidden] { display: none !important; }` so we also need the `!important` here to be able to override the default hidden behavior on the sphinx rendered scikit-learn.org. See: https://github.com/scikit-learn/scikit-learn/issues/21755 */display: inline-block !important;position: relative;}#sk-container-id-1 div.sk-text-repr-fallback {display: none;}</style><div id=\"sk-container-id-1\" class=\"sk-top-container\"><div class=\"sk-text-repr-fallback\"><pre>RandomForestClassifier(random_state=42)</pre><b>In a Jupyter environment, please rerun this cell to show the HTML representation or trust the notebook. <br />On GitHub, the HTML representation is unable to render, please try loading this page with nbviewer.org.</b></div><div class=\"sk-container\" hidden><div class=\"sk-item\"><div class=\"sk-estimator sk-toggleable\"><input class=\"sk-toggleable__control sk-hidden--visually\" id=\"sk-estimator-id-1\" type=\"checkbox\" checked><label for=\"sk-estimator-id-1\" class=\"sk-toggleable__label sk-toggleable__label-arrow\">RandomForestClassifier</label><div class=\"sk-toggleable__content\"><pre>RandomForestClassifier(random_state=42)</pre></div></div></div></div></div>"
            ]
          },
          "metadata": {},
          "execution_count": 32
        }
      ]
    },
    {
      "cell_type": "code",
      "source": [
        "rf_predictions = clf.predict(x_test)\n",
        "print(len(rf_predictions))"
      ],
      "metadata": {
        "id": "JGhhSRTaZHv1",
        "colab": {
          "base_uri": "https://localhost:8080/"
        },
        "outputId": "2bdadce8-08d6-43ac-f4b8-cb7115496d3c"
      },
      "execution_count": 33,
      "outputs": [
        {
          "output_type": "stream",
          "name": "stdout",
          "text": [
            "42\n"
          ]
        }
      ]
    },
    {
      "cell_type": "markdown",
      "source": [
        "## mengukur performa model Random Forest dengan menghitung mean absolute error (MAE), mean squared error (MSE), dan R-squared pada data pengujian"
      ],
      "metadata": {
        "id": "ZLycf7L25kh_"
      }
    },
    {
      "cell_type": "code",
      "source": [
        "from sklearn.metrics import mean_absolute_error, mean_squared_error, r2_score\n",
        "mae = mean_absolute_error(y_test, rf_predictions)\n",
        "mse = mean_squared_error(y_test, rf_predictions)\n",
        "r2 = r2_score(y_test, rf_predictions)\n",
        "\n",
        "print(\"Mean Absolute Error:\", mae)\n",
        "print(\"Mean Squared Error:\", mse)\n",
        "print(\"R-squared:\", r2)"
      ],
      "metadata": {
        "id": "MR2zzWkyZJZ6",
        "colab": {
          "base_uri": "https://localhost:8080/"
        },
        "outputId": "28e636aa-362a-45ef-a08b-fd49a54ef19e"
      },
      "execution_count": 34,
      "outputs": [
        {
          "output_type": "stream",
          "name": "stdout",
          "text": [
            "Mean Absolute Error: 0.0\n",
            "Mean Squared Error: 0.0\n",
            "R-squared: 1.0\n"
          ]
        }
      ]
    },
    {
      "cell_type": "code",
      "source": [
        "count=0\n",
        "for i in range(41):\n",
        "    if(rf_predictions[i]-original[i]!=0):\n",
        "        count+=1\n",
        "\n",
        "rf_Test_accuracy=(42-count)/42*100"
      ],
      "metadata": {
        "id": "IDdXvCtIZKlA"
      },
      "execution_count": 35,
      "outputs": []
    },
    {
      "cell_type": "code",
      "source": [
        "print(f\"Random Forest Test Accuracy:\",Test_accuracy,'%')"
      ],
      "metadata": {
        "id": "3L_az-3lZMAr",
        "colab": {
          "base_uri": "https://localhost:8080/"
        },
        "outputId": "8ce727f9-e881-4def-8d9a-f259edad176e"
      },
      "execution_count": 36,
      "outputs": [
        {
          "output_type": "stream",
          "name": "stdout",
          "text": [
            "Random Forest Test Accuracy: 100.0 %\n"
          ]
        }
      ]
    },
    {
      "cell_type": "markdown",
      "source": [
        "## Saving the Model"
      ],
      "metadata": {
        "id": "SRRSDD7bZPPy"
      }
    },
    {
      "cell_type": "code",
      "source": [
        "from joblib import dump,load"
      ],
      "metadata": {
        "id": "94-M-zNgZU5W"
      },
      "execution_count": 37,
      "outputs": []
    },
    {
      "cell_type": "code",
      "source": [
        "filename = 'rf_model.joblib'\n",
        "model = clf\n",
        "dump(model, filename)"
      ],
      "metadata": {
        "id": "kRmO1ZW7ZYMo",
        "colab": {
          "base_uri": "https://localhost:8080/"
        },
        "outputId": "74d13bb5-34e1-429c-f96e-5aa07db5b891"
      },
      "execution_count": 38,
      "outputs": [
        {
          "output_type": "execute_result",
          "data": {
            "text/plain": [
              "['rf_model.joblib']"
            ]
          },
          "metadata": {},
          "execution_count": 38
        }
      ]
    },
    {
      "cell_type": "code",
      "source": [
        "ml_model=load('rf_model.joblib')"
      ],
      "metadata": {
        "id": "aNm-n5GkZY1r"
      },
      "execution_count": 39,
      "outputs": []
    },
    {
      "cell_type": "code",
      "source": [
        "inp = np.array([0, 0, 0, 0, 0, 0, 0, 0, 1, 0, 0, 0, 0, 0, 0, 0, 0, 0, 0, 0, 0, 0, 0, 0, 0, 0, 0, 0, 0, 0, 0, 0, 0, 0, 0, 0, 0, 0, 0, 0, 0, 0, 0, 0, 0, 0, 0, 0])\n",
        "# Reshape the 1D array into a 2D array with 1 row and 48 columns\n",
        "inp = inp.reshape(1,-1)\n",
        "# Make the prediction\n",
        "prediksi = ml_model.predict(inp)\n",
        "print(prediksi)"
      ],
      "metadata": {
        "id": "2MamzujPZejp",
        "colab": {
          "base_uri": "https://localhost:8080/"
        },
        "outputId": "3e0eb2fb-cd70-43c4-84f2-d2bd27cc17f3"
      },
      "execution_count": 40,
      "outputs": [
        {
          "output_type": "stream",
          "name": "stdout",
          "text": [
            "[30]\n"
          ]
        },
        {
          "output_type": "stream",
          "name": "stderr",
          "text": [
            "/usr/local/lib/python3.10/dist-packages/sklearn/base.py:439: UserWarning:\n",
            "\n",
            "X does not have valid feature names, but RandomForestClassifier was fitted with feature names\n",
            "\n"
          ]
        }
      ]
    },
    {
      "cell_type": "code",
      "source": [
        "prediksiPenyakit = le.classes_[prediksi[0]]\n",
        "print(\"Penyakit yang diderita:\", prediksiPenyakit)\n"
      ],
      "metadata": {
        "colab": {
          "base_uri": "https://localhost:8080/"
        },
        "id": "iXTiMnoT6JmG",
        "outputId": "b7846f6f-9763-416e-aab2-a3b3af557da3"
      },
      "execution_count": 41,
      "outputs": [
        {
          "output_type": "stream",
          "name": "stdout",
          "text": [
            "Penyakit yang diderita: Migraine\n"
          ]
        }
      ]
    }
  ]
}